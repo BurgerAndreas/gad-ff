{
  "cells": [
    {
      "cell_type": "raw",
      "metadata": {
        "vscode": {
          "languageId": "raw"
        }
      },
      "source": [
        "# Analysis of Sella Transition State Search Results\n",
        "\n",
        "This notebook loads and analyzes the results from `test_sella_ts_search` function, which runs Sella transition state optimization with different configurations:\n",
        "\n",
        "- **Hessian methods**: None, autodiff\n",
        "- **Coordinate systems**: Cartesian, Internal\n",
        "- **Starting points**: Linear R-P interpolation, Geodesic R-P interpolation, Reactant\n",
        "- **Diag parameters**: Default, diag_every_n=0\n"
      ]
    },
    {
      "cell_type": "code",
      "execution_count": 2,
      "metadata": {},
      "outputs": [
        {
          "name": "stdout",
          "output_type": "stream",
          "text": [
            "Looking for results in: playground/plots_sella\n"
          ]
        }
      ],
      "source": [
        "import pandas as pd\n",
        "import numpy as np\n",
        "import matplotlib.pyplot as plt\n",
        "import seaborn as sns\n",
        "import json\n",
        "import os\n",
        "import glob\n",
        "import re\n",
        "from pathlib import Path\n",
        "\n",
        "# Set style for better plots\n",
        "plt.style.use('default')\n",
        "sns.set_palette(\"husl\")\n",
        "\n",
        "# Configuration\n",
        "plots_dir = \"playground/plots_sella\"  # Adjust path as needed\n",
        "print(f\"Looking for results in: {plots_dir}\")\n"
      ]
    },
    {
      "cell_type": "raw",
      "metadata": {
        "vscode": {
          "languageId": "raw"
        }
      },
      "source": [
        "## Load All Summary Data\n",
        "\n",
        "Find all `summary.json` files in the plots directory and load them into a pandas DataFrame.\n"
      ]
    },
    {
      "cell_type": "code",
      "execution_count": 3,
      "metadata": {},
      "outputs": [
        {
          "name": "stdout",
          "output_type": "stream",
          "text": [
            "Found 18 summary.json files\n",
            "Loaded 18 Sella runs into DataFrame\n"
          ]
        }
      ],
      "source": [
        "def find_summary_files(base_dir):\n",
        "    \"\"\"Find all summary.json files in the directory tree\"\"\"\n",
        "    pattern = os.path.join(base_dir, \"**/summary.json\")\n",
        "    files = glob.glob(pattern, recursive=True)\n",
        "    print(f\"Found {len(files)} summary.json files\")\n",
        "    return files\n",
        "\n",
        "def parse_title(title):\n",
        "    \"\"\"Parse the Sella run title to extract key information\"\"\"\n",
        "    # Example title: \"Sella TS from linear R-P idx104000 | Hessian=autodiff | Internal | diag_every_n=0\"\n",
        "    \n",
        "    info = {\n",
        "        'starting_point': None,\n",
        "        'hessian_method': None,\n",
        "        'coordinate_system': None,\n",
        "        'diag_every_n': None,\n",
        "        'idx': None\n",
        "    }\n",
        "    \n",
        "    # Extract starting point\n",
        "    if \"from linear R-P\" in title:\n",
        "        info['starting_point'] = \"Linear R-P\"\n",
        "    elif \"from geodesic R-P\" in title:\n",
        "        info['starting_point'] = \"Geodesic R-P\"\n",
        "    elif \"from R \" in title:\n",
        "        info['starting_point'] = \"Reactant\"\n",
        "    \n",
        "    # Extract index\n",
        "    idx_match = re.search(r'idx(\\d+)', title)\n",
        "    if idx_match:\n",
        "        info['idx'] = int(idx_match.group(1))\n",
        "    \n",
        "    # Extract hessian method\n",
        "    hessian_match = re.search(r'Hessian=([^|]+)', title)\n",
        "    if hessian_match:\n",
        "        info['hessian_method'] = hessian_match.group(1).strip()\n",
        "    \n",
        "    # Extract coordinate system\n",
        "    if \"Internal\" in title:\n",
        "        info['coordinate_system'] = \"Internal\"\n",
        "    elif \"Cartesian\" in title:\n",
        "        info['coordinate_system'] = \"Cartesian\"\n",
        "    \n",
        "    # Extract diag_every_n\n",
        "    diag_match = re.search(r'diag_every_n=([^|]+)', title)\n",
        "    if diag_match:\n",
        "        try:\n",
        "            info['diag_every_n'] = int(diag_match.group(1).strip())\n",
        "        except:\n",
        "            info['diag_every_n'] = diag_match.group(1).strip()\n",
        "    \n",
        "    return info\n",
        "\n",
        "def load_summary_data(summary_files):\n",
        "    \"\"\"Load all summary files into a list of dictionaries\"\"\"\n",
        "    data = []\n",
        "    \n",
        "    for file_path in summary_files:\n",
        "        try:\n",
        "            with open(file_path, 'r') as f:\n",
        "                summary = json.load(f)\n",
        "            \n",
        "            # Extract directory name which contains the title\n",
        "            dir_name = os.path.basename(os.path.dirname(file_path))\n",
        "            \n",
        "            # Parse title information\n",
        "            title_info = parse_title(dir_name)\n",
        "            \n",
        "            # Combine summary data with parsed title info\n",
        "            row = {\n",
        "                'file_path': file_path,\n",
        "                'directory': dir_name,\n",
        "                **title_info,\n",
        "                **summary\n",
        "            }\n",
        "            \n",
        "            data.append(row)\n",
        "            \n",
        "        except Exception as e:\n",
        "            print(f\"Error loading {file_path}: {e}\")\n",
        "    \n",
        "    return data\n",
        "\n",
        "# Load all data\n",
        "summary_files = find_summary_files(plots_dir)\n",
        "if len(summary_files) == 0:\n",
        "    print(f\"No summary files found in {plots_dir}\")\n",
        "    print(\"Make sure you've run the Sella tests first with --do-sella flag\")\n",
        "else:\n",
        "    data = load_summary_data(summary_files)\n",
        "    df = pd.DataFrame(data)\n",
        "    print(f\"Loaded {len(df)} Sella runs into DataFrame\")\n"
      ]
    },
    {
      "cell_type": "raw",
      "metadata": {
        "vscode": {
          "languageId": "raw"
        }
      },
      "source": [
        "## Explore the Data\n"
      ]
    },
    {
      "cell_type": "code",
      "execution_count": 4,
      "metadata": {},
      "outputs": [
        {
          "name": "stdout",
          "output_type": "stream",
          "text": [
            "DataFrame shape: (18, 29)\n",
            "\n",
            "Columns: ['file_path', 'directory', 'starting_point', 'hessian_method', 'coordinate_system', 'diag_every_n', 'idx', 'sella_kwargs', 'run_kwargs', 'date', 'trajectory', 'nsteps', 'time_taken', 'calcname', 'rmsd_initial', 'negative_freq_count_autodiff', 'is_transition_state_autodiff', 'time_taken_autodiff', 'date_autodiff', 'negative_freq_count_predict', 'is_transition_state_predict', 'time_taken_predict', 'date_predict', 'negative_freq_count_finite_diff', 'is_transition_state_finite_diff', 'time_taken_finite_diff', 'date_finite_diff', 'rmsd_final', 'rmsd_improvement']\n",
            "\n",
            "Starting points: Series([], Name: count, dtype: int64)\n",
            "\n",
            "Hessian methods: Series([], Name: count, dtype: int64)\n",
            "\n",
            "Coordinate systems: Series([], Name: count, dtype: int64)\n",
            "\n",
            "Available metrics: ['rmsd_final', 'rmsd_initial', 'rmsd_improvement', 'nsteps', 'time_taken']\n",
            "\n",
            "First few rows:\n",
            "  starting_point hessian_method coordinate_system diag_every_n  rmsd_final  \\\n",
            "0           None           None              None         None    0.039364   \n",
            "1           None           None              None         None    0.039107   \n",
            "2           None           None              None         None    0.774240   \n",
            "3           None           None              None         None    0.243534   \n",
            "4           None           None              None         None    0.371952   \n",
            "\n",
            "   rmsd_initial  rmsd_improvement  nsteps  time_taken  \n",
            "0      0.150452          0.111087     721   29.633533  \n",
            "1      0.653396          0.614289     106    4.508014  \n",
            "2      0.653396         -0.120844      47    5.861697  \n",
            "3      0.143572         -0.099962    4000  343.981232  \n",
            "4      0.653396          0.281445    2228   91.329458  \n"
          ]
        }
      ],
      "source": [
        "if len(summary_files) > 0:\n",
        "    print(\"DataFrame shape:\", df.shape)\n",
        "    print(\"\\nColumns:\", list(df.columns))\n",
        "    \n",
        "    print(\"\\nStarting points:\", df['starting_point'].value_counts())\n",
        "    print(\"\\nHessian methods:\", df['hessian_method'].value_counts())\n",
        "    print(\"\\nCoordinate systems:\", df['coordinate_system'].value_counts())\n",
        "    \n",
        "    # Check for key metrics\n",
        "    key_metrics = ['rmsd_final', 'rmsd_initial', 'rmsd_improvement', 'nsteps', 'time_taken']\n",
        "    available_metrics = [col for col in key_metrics if col in df.columns]\n",
        "    print(f\"\\nAvailable metrics: {available_metrics}\")\n",
        "    \n",
        "    # Show first few rows\n",
        "    print(\"\\nFirst few rows:\")\n",
        "    display_cols = ['starting_point', 'hessian_method', 'coordinate_system', 'diag_every_n'] + available_metrics\n",
        "    display_cols = [col for col in display_cols if col in df.columns]\n",
        "    print(df[display_cols].head())\n"
      ]
    },
    {
      "cell_type": "raw",
      "metadata": {
        "vscode": {
          "languageId": "raw"
        }
      },
      "source": [
        "## Data Cleaning and Preparation\n"
      ]
    },
    {
      "cell_type": "code",
      "execution_count": 5,
      "metadata": {},
      "outputs": [
        {
          "name": "stdout",
          "output_type": "stream",
          "text": [
            "Rows with missing rmsd_final: 0\n",
            "\n",
            "Cleaned DataFrame shape: (18, 31)\n",
            "\n",
            "Hessian + Coordinates combinations:\n",
            "hessian_coords\n",
            "None + None    18\n",
            "Name: count, dtype: int64\n",
            "\n",
            "Full method combinations:\n",
            "method_full\n",
            "None + None    18\n",
            "Name: count, dtype: int64\n"
          ]
        }
      ],
      "source": [
        "if len(summary_files) > 0:\n",
        "    # Clean the data\n",
        "    df_clean = df.copy()\n",
        "    \n",
        "    # Handle missing values in key columns\n",
        "    if 'rmsd_final' in df_clean.columns:\n",
        "        print(f\"Rows with missing rmsd_final: {df_clean['rmsd_final'].isna().sum()}\")\n",
        "        \n",
        "    # Create a combined identifier for hessian and coordinates\n",
        "    df_clean['hessian_coords'] = df_clean['hessian_method'].astype(str) + \" + \" + df_clean['coordinate_system'].astype(str)\n",
        "    \n",
        "    # Create a combined identifier that includes diag_every_n when available\n",
        "    df_clean['method_full'] = df_clean['hessian_coords'].copy()\n",
        "    mask = df_clean['diag_every_n'].notna() & (df_clean['diag_every_n'] != 'None')\n",
        "    df_clean.loc[mask, 'method_full'] = df_clean.loc[mask, 'method_full'] + \" (diag_every_n=\" + df_clean.loc[mask, 'diag_every_n'].astype(str) + \")\"\n",
        "    \n",
        "    print(f\"\\nCleaned DataFrame shape: {df_clean.shape}\")\n",
        "    print(f\"\\nHessian + Coordinates combinations:\")\n",
        "    print(df_clean['hessian_coords'].value_counts())\n",
        "    \n",
        "    print(f\"\\nFull method combinations:\")\n",
        "    print(df_clean['method_full'].value_counts())\n"
      ]
    },
    {
      "cell_type": "raw",
      "metadata": {
        "vscode": {
          "languageId": "raw"
        }
      },
      "source": [
        "## Main Plot: RMSD by Hessian Method and Starting Point\n",
        "\n",
        "Create the requested plot showing final RMSD grouped by hessian function and starting point.\n"
      ]
    },
    {
      "cell_type": "code",
      "execution_count": 6,
      "metadata": {},
      "outputs": [
        {
          "name": "stdout",
          "output_type": "stream",
          "text": [
            "No valid data for plotting\n"
          ]
        }
      ],
      "source": [
        "if len(summary_files) > 0 and 'rmsd_final' in df_clean.columns:\n",
        "    # Filter out rows with missing rmsd_final\n",
        "    df_plot = df_clean.dropna(subset=['rmsd_final', 'starting_point', 'hessian_method'])\n",
        "    \n",
        "    if len(df_plot) == 0:\n",
        "        print(\"No valid data for plotting\")\n",
        "    else:\n",
        "        # Create the main plot\n",
        "        fig, axes = plt.subplots(2, 2, figsize=(15, 12))\n",
        "        fig.suptitle('Sella Transition State Search Results: Final RMSD Analysis', fontsize=16, fontweight='bold')\n",
        "        \n",
        "        # Plot 1: Box plot by starting point and hessian method\n",
        "        ax1 = axes[0, 0]\n",
        "        sns.boxplot(data=df_plot, x='starting_point', y='rmsd_final', hue='hessian_method', ax=ax1)\n",
        "        ax1.set_title('Final RMSD by Starting Point and Hessian Method')\n",
        "        ax1.set_ylabel('Final RMSD (Å)')\n",
        "        ax1.tick_params(axis='x', rotation=45)\n",
        "        ax1.legend(title='Hessian Method')\n",
        "        \n",
        "        # Plot 2: Box plot by coordinate system\n",
        "        ax2 = axes[0, 1]\n",
        "        sns.boxplot(data=df_plot, x='coordinate_system', y='rmsd_final', hue='hessian_method', ax=ax2)\n",
        "        ax2.set_title('Final RMSD by Coordinate System and Hessian Method')\n",
        "        ax2.set_ylabel('Final RMSD (Å)')\n",
        "        ax2.legend(title='Hessian Method')\n",
        "        \n",
        "        # Plot 3: Detailed breakdown including diag_every_n\n",
        "        ax3 = axes[1, 0]\n",
        "        sns.boxplot(data=df_plot, x='starting_point', y='rmsd_final', hue='method_full', ax=ax3)\n",
        "        ax3.set_title('Final RMSD by Starting Point (All Method Combinations)')\n",
        "        ax3.set_ylabel('Final RMSD (Å)')\n",
        "        ax3.tick_params(axis='x', rotation=45)\n",
        "        ax3.legend(title='Method', bbox_to_anchor=(1.05, 1), loc='upper left')\n",
        "        \n",
        "        # Plot 4: Scatter plot of optimization performance\n",
        "        ax4 = axes[1, 1]\n",
        "        if 'nsteps' in df_plot.columns:\n",
        "            scatter = sns.scatterplot(data=df_plot, x='nsteps', y='rmsd_final', \n",
        "                                    hue='starting_point', style='hessian_method', \n",
        "                                    s=100, ax=ax4)\n",
        "            ax4.set_title('Final RMSD vs Number of Steps')\n",
        "            ax4.set_xlabel('Number of Optimization Steps')\n",
        "            ax4.set_ylabel('Final RMSD (Å)')\n",
        "            ax4.legend(bbox_to_anchor=(1.05, 1), loc='upper left')\n",
        "        else:\n",
        "            ax4.text(0.5, 0.5, 'nsteps data not available', \n",
        "                    ha='center', va='center', transform=ax4.transAxes)\n",
        "            ax4.set_title('Number of Steps Data Not Available')\n",
        "        \n",
        "        plt.tight_layout()\n",
        "        plt.show()\n",
        "        \n",
        "        # Print summary statistics\n",
        "        print(\"\\n\" + \"=\"*60)\n",
        "        print(\"SUMMARY STATISTICS\")\n",
        "        print(\"=\"*60)\n",
        "        \n",
        "        print(\"\\nFinal RMSD by Starting Point:\")\n",
        "        print(df_plot.groupby('starting_point')['rmsd_final'].describe())\n",
        "        \n",
        "        print(\"\\nFinal RMSD by Hessian Method:\")\n",
        "        print(df_plot.groupby('hessian_method')['rmsd_final'].describe())\n",
        "        \n",
        "        print(\"\\nFinal RMSD by Coordinate System:\")\n",
        "        print(df_plot.groupby('coordinate_system')['rmsd_final'].describe())\n",
        "        \n",
        "        # Best performing configurations\n",
        "        print(\"\\nBest performing configurations (lowest final RMSD):\")\n",
        "        best_configs = df_plot.nsmallest(10, 'rmsd_final')[['starting_point', 'hessian_method', \n",
        "                                                           'coordinate_system', 'diag_every_n', \n",
        "                                                           'rmsd_final', 'nsteps']]\n",
        "        print(best_configs.to_string(index=False))\n",
        "        \n",
        "else:\n",
        "    print(\"No data available for plotting. Make sure Sella runs have been completed.\")\n"
      ]
    },
    {
      "cell_type": "raw",
      "metadata": {
        "vscode": {
          "languageId": "raw"
        }
      },
      "source": [
        "## Additional Analysis: Performance Metrics\n"
      ]
    },
    {
      "cell_type": "code",
      "execution_count": 7,
      "metadata": {},
      "outputs": [
        {
          "data": {
            "image/png": "[encoded data removed]",
            "text/plain": [
              "<Figure size 1800x500 with 3 Axes>"
            ]
          },
          "metadata": {},
          "output_type": "display_data"
        },
        {
          "data": {
            "image/png": "[encoded data removed]",
            "text/plain": [
              "<Figure size 800x600 with 2 Axes>"
            ]
          },
          "metadata": {},
          "output_type": "display_data"
        }
      ],
      "source": [
        "if len(summary_files) > 0:\n",
        "    # Analyze other performance metrics if available\n",
        "    metrics_to_plot = []\n",
        "    \n",
        "    if 'time_taken' in df_clean.columns:\n",
        "        metrics_to_plot.append('time_taken')\n",
        "    if 'rmsd_improvement' in df_clean.columns:\n",
        "        metrics_to_plot.append('rmsd_improvement')\n",
        "    if 'nsteps' in df_clean.columns:\n",
        "        metrics_to_plot.append('nsteps')\n",
        "    \n",
        "    if metrics_to_plot:\n",
        "        n_metrics = len(metrics_to_plot)\n",
        "        fig, axes = plt.subplots(1, n_metrics, figsize=(6*n_metrics, 5))\n",
        "        if n_metrics == 1:\n",
        "            axes = [axes]\n",
        "        \n",
        "        for i, metric in enumerate(metrics_to_plot):\n",
        "            df_metric = df_clean.dropna(subset=[metric, 'starting_point', 'hessian_method'])\n",
        "            \n",
        "            if len(df_metric) > 0:\n",
        "                sns.boxplot(data=df_metric, x='starting_point', y=metric, \n",
        "                           hue='hessian_method', ax=axes[i])\n",
        "                axes[i].set_title(f'{metric.replace(\"_\", \" \").title()} by Configuration')\n",
        "                axes[i].tick_params(axis='x', rotation=45)\n",
        "                if i > 0:\n",
        "                    axes[i].get_legend().remove()\n",
        "        \n",
        "        plt.tight_layout()\n",
        "        plt.show()\n",
        "    \n",
        "    # Create correlation matrix if multiple metrics available\n",
        "    numeric_cols = ['rmsd_final', 'rmsd_initial', 'rmsd_improvement', 'nsteps', 'time_taken']\n",
        "    available_numeric = [col for col in numeric_cols if col in df_clean.columns]\n",
        "    \n",
        "    if len(available_numeric) > 1:\n",
        "        fig, ax = plt.subplots(figsize=(8, 6))\n",
        "        correlation_matrix = df_clean[available_numeric].corr()\n",
        "        sns.heatmap(correlation_matrix, annot=True, cmap='coolwarm', center=0, ax=ax)\n",
        "        ax.set_title('Correlation Matrix of Performance Metrics')\n",
        "        plt.tight_layout()\n",
        "        plt.show()\n"
      ]
    },
    {
      "cell_type": "raw",
      "metadata": {
        "vscode": {
          "languageId": "raw"
        }
      },
      "source": [
        "## Export Results\n"
      ]
    },
    {
      "cell_type": "code",
      "execution_count": 8,
      "metadata": {},
      "outputs": [],
      "source": [
        "# if len(summary_files) > 0:\n",
        "#     # Save the cleaned dataframe\n",
        "#     output_file = \"sella_results_analysis.csv\"\n",
        "#     df_clean.to_csv(output_file, index=False)\n",
        "#     print(f\"Saved cleaned results to {output_file}\")\n",
        "    \n",
        "#     # Save summary statistics\n",
        "#     summary_stats = {\n",
        "#         'total_runs': len(df_clean),\n",
        "#         'successful_runs': len(df_clean.dropna(subset=['rmsd_final'])),\n",
        "#         'starting_points': df_clean['starting_point'].value_counts().to_dict(),\n",
        "#         'hessian_methods': df_clean['hessian_method'].value_counts().to_dict(),\n",
        "#         'coordinate_systems': df_clean['coordinate_system'].value_counts().to_dict()\n",
        "#     }\n",
        "    \n",
        "#     with open('sella_results_summary.json', 'w') as f:\n",
        "#         json.dump(summary_stats, f, indent=2)\n",
        "    \n",
        "#     print(f\"Saved summary statistics to sella_results_summary.json\")\n",
        "#     print(f\"\\nAnalysis complete! Processed {len(df_clean)} Sella optimization runs.\")\n",
        "# else:\n",
        "#     print(\"No data to export. Run Sella optimization first.\")\n"
      ]
    }
  ],
  "metadata": {
    "kernelspec": {
      "display_name": "gad",
      "language": "python",
      "name": "python3"
    },
    "language_info": {
      "codemirror_mode": {
        "name": "ipython",
        "version": 3
      },
      "file_extension": ".py",
      "mimetype": "text/x-python",
      "name": "python",
      "nbconvert_exporter": "python",
      "pygments_lexer": "ipython3",
      "version": "3.12.11"
    }
  },
  "nbformat": 4,
  "nbformat_minor": 2
}
