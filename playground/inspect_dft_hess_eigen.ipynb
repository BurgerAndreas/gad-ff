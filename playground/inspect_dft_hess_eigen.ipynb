{
 "cells": [
  {
   "cell_type": "code",
   "execution_count": 32,
   "metadata": {},
   "outputs": [],
   "source": [
    "import torch"
   ]
  },
  {
   "cell_type": "code",
   "execution_count": 33,
   "metadata": {},
   "outputs": [
    {
     "name": "stdout",
     "output_type": "stream",
     "text": [
      "Loaded dataset with 50844 samples from /home/andreasburger/.cache/kagglehub/datasets/yunhonghan/hessian-dataset-for-optimizing-reactive-mliphorm/versions/5/ts1x-val.lmdb\n",
      "torch.Size([2304])\n",
      "torch.Size([16, 3])\n"
     ]
    }
   ],
   "source": [
    "from gadff.horm.ff_lmdb import LmdbDataset\n",
    "from gadff.path_config import fix_horm_dataset_path\n",
    "\n",
    "input_lmdb_path = fix_horm_dataset_path(\"ts1x-val.lmdb\")\n",
    "dataset = LmdbDataset(input_lmdb_path)\n",
    "print(f\"Loaded dataset with {len(dataset)} samples from {input_lmdb_path}\")\n",
    "\n",
    "sample = dataset[0]\n",
    "print(sample.hessian.shape)\n",
    "print(sample.pos.shape)\n"
   ]
  },
  {
   "cell_type": "code",
   "execution_count": 34,
   "metadata": {},
   "outputs": [],
   "source": [
    "def get_hessian_eigenvalues_and_vectors(hessian, N, D=3, hermitian=True):\n",
    "    # ND = N*3 = num_atoms * num_dim\n",
    "    hessian = hessian.view(N*D, N*D) # [ND, ND]\n",
    "\n",
    "    if hermitian:\n",
    "        # [N*D], [N*D, N*D]\n",
    "        eigenvalues, eigenvectors = torch.linalg.eigh(hessian)\n",
    "    else:\n",
    "        eigenvalues, eigenvectors = torch.linalg.eig(hessian)\n",
    "        # Sort eigenvalues and eigenvectors so that eigenvalues are in ascending order\n",
    "        sorted_eigenvals, sort_indices = torch.sort(eigenvalues)\n",
    "    \n",
    "        # convention is that the eigenvectors are column vectors\n",
    "        sorted_eigenvecs = eigenvectors[:, sort_indices]\n",
    "        \n",
    "        eigenvalues = sorted_eigenvals\n",
    "        eigenvectors = sorted_eigenvecs\n",
    "    \n",
    "    # verify that the eigenvalues are in ascending order\n",
    "    for i in range(eigenvalues.shape[0] - 1):\n",
    "        assert eigenvalues[i] <= eigenvalues[i+1]\n",
    "    \n",
    "    smallest_eigenvals = eigenvalues[:2].cpu() # [2]\n",
    "    smallest_eigenvecs = eigenvectors[:, :2].cpu() # [3*N, 2]\n",
    "\n",
    "    # Reshape eigenvectors to [2, N, 3] format\n",
    "    eigvecs_reshaped = smallest_eigenvecs.T.reshape(2, N*D)  # [2, ND]\n",
    "\n",
    "    # Add new fields to the original data object\n",
    "    eigval1 = smallest_eigenvals[0:1]  # Keep as [1] tensor\n",
    "    eigval2 = smallest_eigenvals[1:2]  # Keep as [1] tensor\n",
    "    eigvec1 = eigvecs_reshaped[0]  # [N, 3]\n",
    "    eigvec2 = eigvecs_reshaped[1]  # [N, 3]\n",
    "\n",
    "    return eigval1, eigval2, eigvec1, eigvec2"
   ]
  },
  {
   "cell_type": "code",
   "execution_count": 35,
   "metadata": {},
   "outputs": [],
   "source": [
    "# Get the original sample\n",
    "original_sample = dataset[0]\n",
    "\n",
    "n_atoms = original_sample.pos.shape[0] # [N]\n",
    "\n",
    "# Compute smallest eigenvalues and eigenvectors from DFT Hessian\n",
    "dft_hessian = original_sample.hessian  \n",
    "dft_hessian = dft_hessian.view(n_atoms*3, n_atoms*3) # Shape should be [3*N * 3*N]\n",
    "\n",
    "# Memory movement overhead is not worth it\n",
    "# dft_hessian = dft_hessian.to(device)\n",
    "\n",
    "\n",
    "eigval1, eigval2, eigvec1, eigvec2 = get_hessian_eigenvalues_and_vectors(dft_hessian, n_atoms)"
   ]
  },
  {
   "cell_type": "code",
   "execution_count": 36,
   "metadata": {},
   "outputs": [
    {
     "name": "stdout",
     "output_type": "stream",
     "text": [
      "Eigenvector verification error (max |H*v - λ*v|): 1.50e+01\n",
      "\n",
      "Verifying second eigenvector...\n",
      "Eigenvector verification error (max |H*v - λ*v|): 1.34e+01\n",
      "\n",
      "Orthogonality error (|v1·v2|): 2.58e-01\n"
     ]
    }
   ],
   "source": [
    "\n",
    "# Verify that the first eigenvector is indeed an eigenvector of the hessian with the correct eigenvalue\n",
    "\n",
    "# Compute H * v\n",
    "hessian_times_eigenvec = torch.matmul(dft_hessian, eigvec1)  # [3*N]\n",
    "\n",
    "# Compute λ * v  \n",
    "eigenval_times_eigenvec = eigval1 * eigvec1  # [3*N]\n",
    "\n",
    "# Check if H*v = λ*v (eigenvector equation)\n",
    "eigenvec_error = torch.max(torch.abs(hessian_times_eigenvec - eigenval_times_eigenvec))\n",
    "print(f\"Eigenvector verification error (max |H*v - λ*v|): {eigenvec_error:.2e}\")\n",
    "\n",
    "# Also check the second eigenvector\n",
    "print(\"\\nVerifying second eigenvector...\")\n",
    "\n",
    "hessian_times_eigenvec2 = torch.matmul(dft_hessian, eigvec2)\n",
    "eigenval_times_eigenvec2 = eigval2 * eigvec2\n",
    "eigenvec_error2 = torch.max(torch.abs(hessian_times_eigenvec2 - eigenval_times_eigenvec2))\n",
    "print(f\"Eigenvector verification error (max |H*v - λ*v|): {eigenvec_error2:.2e}\")\n",
    "\n",
    "# Check orthogonality of eigenvectors\n",
    "orthogonality_error = torch.abs(torch.dot(eigvec1, eigvec2))\n",
    "print(f\"\\nOrthogonality error (|v1·v2|): {orthogonality_error:.2e}\")"
   ]
  }
 ],
 "metadata": {
  "kernelspec": {
   "display_name": "gad",
   "language": "python",
   "name": "python3"
  },
  "language_info": {
   "codemirror_mode": {
    "name": "ipython",
    "version": 3
   },
   "file_extension": ".py",
   "mimetype": "text/x-python",
   "name": "python",
   "nbconvert_exporter": "python",
   "pygments_lexer": "ipython3",
   "version": "3.12.11"
  }
 },
 "nbformat": 4,
 "nbformat_minor": 2
}
