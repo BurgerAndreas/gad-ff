{
 "cells": [
  {
   "cell_type": "code",
   "execution_count": 1,
   "metadata": {},
   "outputs": [
    {
     "name": "stdout",
     "output_type": "stream",
     "text": [
      "Files in /ssd/Code/gad-ff/Data/ANI1x/data:\n",
      "['N2O.npz', 'C3H2N2O4.npz', 'C5H6O3.npz', 'C8H8.npz', 'C4H7N9.npz', 'C4H2N2.npz', 'C6H10O4.npz', 'C7H20N2O.npz', 'C13H16O.npz', 'C11H14O4.npz', 'C10H18N2O3.npz', 'C5H4N2O3.npz', 'C11H9NO3.npz', 'C12H9N.npz', 'C8H11N5O.npz', 'C11H21N3O3.npz', 'C5H5NO3.npz', 'C11H18O.npz', 'C6H14N4O4.npz', 'C10H15N5O4.npz', 'C8H11N5O2.npz', 'C2H5N5O2.npz', 'C2H6N6.npz', 'C7H14N4O4.npz', 'C9H16N4.npz', 'C10H10N2O.npz', 'H20O10.npz', 'C3H12N6.npz', 'C4H12N6O.npz', 'C3H8O6.npz', 'C9H15N3O.npz', 'C6H7N3O4.npz', 'C6H17NO3.npz', 'C9H19N3O.npz', 'C4H3N3O5.npz', 'C9H14N4O4.npz', 'C12H23N7O3.npz', 'C4H4N8.npz', 'C14H14N2.npz', 'C6H9N7O.npz', 'C6H3N.npz', 'C3H4O5.npz', 'C7H9N.npz', 'C6H5N3O2.npz', 'C5H13N3O3.npz', 'C16H21N3O3.npz', 'C3H12N4.npz', 'C4H14N4O2.npz', 'C12H20N4.npz', 'C7H12N2.npz', 'C2H5NO6.npz', 'C16H27N3.npz', 'C14H24O.npz', 'C3H3NO4.npz', 'C7H12N2O2.npz', 'C13H26N4.npz', 'C9H9NO4.npz', 'CH2O.npz', 'C8H13N5O3.npz', 'C5H15N7.npz', 'C16H19NO3.npz', 'C7H17NO.npz', 'C3H10N8O.npz', 'C2H3N.npz', 'C7H5NO2.npz', 'C4H7N7O2.npz', 'C9H14N2O7.npz', 'C7H18N2.npz', 'C6H8N2O.npz', 'C12H14N8O.npz', 'C6H11NO.npz', 'C3H3N3O2.npz', 'C10H7N3O.npz', 'C2H9N7.npz', 'C5H12N4O.npz', 'C5H12O6.npz', 'C9H14N4O.npz', 'C8H16O2.npz', 'C13H16N2O5.npz', 'C11H8O2.npz', 'C8H9N5.npz', 'C9H21NO.npz', 'C14H16N2O.npz', 'C12H10N2.npz', 'C6H16N2O3.npz', 'C10H10O3.npz', 'C14H19N3.npz', 'C11H20N2.npz', 'C9H10N2O4.npz', 'C5H3N5O2.npz', 'C12H18O3.npz', 'C9H7N5.npz', 'C9H11NO2.npz', 'C8H21N5.npz', 'C10H24N4.npz', 'C10H16N4O.npz', 'C5H4O4.npz', 'C11H20N2O5.npz', 'C10H15NO4.npz', 'C9H13NO5.npz', 'C4H12N2O6.npz', 'C6H12N6.npz', 'C8H16N2.npz', 'C6H10N4.npz', 'C2H3N7O3.npz', 'C3H4N8O.npz', 'C9H22N2.npz', 'C3H10N6O2.npz', 'C7H7N3.npz', 'N2.npz', 'C7H12N2O3.npz', 'C4H10O.npz', 'C3H2N2O5.npz', 'C11H11NO2.npz', 'C10H16N2O5.npz', 'C4HNO4.npz', 'C7H19N3.npz', 'C6H14N4O2.npz', 'C2HNO4.npz', 'C11H9N3.npz', 'C5H6.npz', 'C7H8O2.npz', 'C11H22N2.npz', 'C4H8O.npz', 'C5H9N.npz', 'C4H13N5O2.npz', 'C10H10N2O2.npz', 'C9H23N3O3.npz', 'C6H11N3O.npz', 'C4H4N4.npz', 'C10H10O4.npz', 'C6H5N3.npz', 'C4H10N6O3.npz', 'C7H6N4.npz', 'C4H4N2O.npz', 'C10H10N4O2.npz', 'C4H13NO2.npz', 'C15H17N5O3.npz', 'C13H10O.npz', 'C11H16N4O2.npz', 'C7H13N3O.npz', 'C3H6N6O3.npz', 'C12H21N.npz', 'C4H12N2O3.npz', 'C6H6N6.npz', 'C4H6N4.npz', 'C4H7N3O5.npz', 'C13H23N3.npz', 'C6H7N3O2.npz', 'C5H11N5O2.npz', 'C9H23NO4.npz', 'C9H20N4.npz', 'C10H6.npz', 'C4H4N4O2.npz', 'C6H14N4O6.npz', 'C8H19N3O.npz', 'C9H12.npz', 'C10H17NO3.npz', 'C5H6O4.npz', 'C4H4O3.npz', 'C6H13N3.npz', 'C4H12N8.npz', 'C7H7N7.npz', 'C9H18.npz', 'C5H7N3O2.npz', 'C3H4N6O3.npz', 'C7H5NO4.npz', 'C7H11N3.npz', 'C11H18N2O3.npz', 'C5H14N2O3.npz', 'C5H12O5.npz', 'C12H11N.npz', 'C20H38O4.npz', 'C4H4N4O3.npz', 'C7H7NO2.npz', 'C9H12N4O2.npz', 'C2H5N5O3.npz', 'C4H10N6O2.npz', 'C9H16N2O.npz', 'C5H17N7.npz', 'C6H6O4.npz', 'C11H6N2.npz', 'C7H12N6O.npz', 'C3H7N3O.npz', 'C10H12N2O2.npz', 'C6H11NO3.npz', 'C17H33N3O4.npz', 'H4N2.npz', 'C7H8N6O2.npz', 'C6H16O4.npz', 'C4H5NO2.npz', 'C6HNO.npz', 'C10H19N3O4.npz', 'C12H9NO2.npz', 'C6H7N.npz', 'C18H19N3O4.npz', 'C4N4O.npz', 'C3H9N3.npz', 'C7H3NO2.npz', 'C9H16N2O6.npz', 'C4H9N3O2.npz', 'C6H15N5O2.npz', 'C5H14N6O.npz', 'C10H22O2.npz', 'C12H18N2O4.npz', 'C5H14O4.npz', 'C13H21NO.npz', 'C10H12O.npz', 'C9H19N5O4.npz', 'C7H8N2O.npz', 'C6H11N5.npz', 'C8H3N3O.npz', 'C10H11NO3.npz', 'C11H8N4.npz', 'C4N2O3.npz', 'CH7N3O2.npz', 'C4H11N5O.npz', 'C12H23NO.npz', 'H3N3.npz', 'C6H15NO5.npz', 'C7H14N2O5.npz', 'C4H5NO3.npz', 'C7H13N5O2.npz', 'C11H22N4O.npz', 'C8H8O4.npz', 'C4H12O2.npz', 'CH3N5.npz', 'C8H18O4.npz', 'C8H17N3O2.npz', 'C12H17NO2.npz', 'C6H13N.npz', 'C18H25N3O.npz', 'CH2O2.npz', 'C8H22N6O3.npz', 'C5H6N2O2.npz', 'C8H16N2O5.npz', 'C7H7N5.npz', 'C11H5N.npz', 'C12H18O.npz', 'C6H17N3.npz', 'C2H9NO.npz', 'C3N2O.npz', 'C5H4N2O.npz', 'C2H11N5.npz', 'C3H3N.npz', 'C2H3N5O2.npz', 'C12H8N2.npz', 'C11H12.npz', 'C10H18N2O.npz', 'C6H20N6O2.npz', 'C9H16O4.npz', 'C8H20N2O.npz', 'C5H4O3.npz', 'C5H11NO6.npz', 'C4H15N5O3.npz', 'C7H15NO4.npz', 'C13H20O2.npz', 'C3H13N3.npz', 'C8H7NO4.npz', 'C5H3NO5.npz', 'C6H12O.npz', 'C18H19NO5.npz', 'C9H19NO4.npz', 'C3H3N5O3.npz', 'C2H8.npz', 'C12H21N3O.npz', 'C9H19N3O4.npz', 'C5H7N3O.npz', 'C8H11N5.npz', 'C6H13N7.npz', 'C8H7NO2.npz', 'C5H2O3.npz', 'C7H9N5O3.npz', 'C4H11N3O.npz', 'C5H12.npz', 'C10H16N2O2.npz', 'C8H6O3.npz', 'C11H13N3.npz', 'C3H9NO4.npz', 'C2HN3.npz', 'C8H8N4.npz', 'C10H21N3O4.npz', 'C10H17N3O4.npz', 'C12H26N4O.npz', 'C3H5N9.npz', 'C11H16N2O2.npz', 'C9H21N3O.npz', 'C10H20O6.npz', 'C8H13NO2.npz', 'C8H11NO.npz', 'C14H25NO4.npz', 'C10H7NO.npz', 'C3H4N4O2.npz', 'C9H16N6.npz', 'C8H8O.npz', 'C7H16N2O.npz', 'C5H11N7O.npz', 'C12H10O.npz', 'C16H26N2O3.npz', 'C2H5N9.npz', 'C4H6N4O3.npz', 'C6H11N9O4.npz', 'C7H7NO4.npz', 'C7H14O7.npz', 'C9H16N2.npz', 'C4H17N7O2.npz', 'C8H9N3O4.npz', 'C11H18N2.npz', 'C10H13N3O2.npz', 'C2H4N6O.npz', 'C3H4O2.npz', 'C10H12N4O.npz', 'C4H3N5O3.npz', 'C5H11N3O.npz', 'C4H15N5O2.npz', 'C11H21N.npz', 'C10H22N2.npz', 'C11H14N4.npz', 'C3H11N7O.npz', 'C2H3NO3.npz', 'CH8N2.npz', 'C3H10N2O.npz', 'C6H14N2O5.npz', 'C5H3N3O3.npz', 'C5H10.npz', 'C8H16N4.npz', 'C10H8O.npz', 'C5H7NO4.npz', 'C7H8N2.npz', 'C6HN3O.npz', 'C2H10N2.npz', 'C13H9N.npz', 'C8H15NO.npz', 'C3H10O3.npz', 'C13H13NO.npz', 'C10H11N5.npz', 'C10H9N3.npz', 'C5H12N2O4.npz', 'C6H6O7.npz', 'C5H10N2O5.npz', 'C4H7N3O.npz', 'C4H10N4O3.npz', 'C8H19N5.npz', 'C5H2N2O4.npz', 'C7H3NO4.npz', 'C7H20N2.npz', 'C13H24N2O.npz', 'C4H12O5.npz', 'C12H20O.npz', 'C4H13N.npz', 'C3H10N2O2.npz', 'C4H6N2O5.npz', 'C2H4N4O3.npz', 'C10H20O5.npz', 'C7H9NO5.npz', 'C5H15N5O.npz', 'C4H12N2O.npz', 'C10H26N4O2.npz', 'C9H14N6.npz', 'H18O9.npz', 'C2HNO.npz', 'C11H18.npz', 'C6H20N6O3.npz', 'C8H8N2O.npz', 'C3H2O5.npz', 'CH3N3O.npz', 'C9H6N2.npz', 'C4H12N4.npz', 'C5H13N5.npz', 'C13H16N2O.npz', 'C3H5N5O4.npz', 'C3H11N5O3.npz', 'C4H3NO2.npz', 'C14H28O7.npz', 'C8H12O3.npz', 'C4H6N4O5.npz', 'C2H8N2O2.npz', 'C20H28N4O2.npz', 'C14H22O2.npz', 'CH8N4O2.npz', 'C10H20O2.npz', 'C13H24N2O4.npz', 'C2H9N5O.npz', 'CH5N3O5.npz', 'C8H4O.npz', 'C7H17N5.npz', 'C8H20N2.npz', 'C8H18N2O2.npz', 'C7H14N4O.npz', 'C5H14N6O3.npz', 'C10H14N2O4.npz', 'C9H14N4O2.npz', 'C6H14N6O.npz', 'C5H12O2.npz', 'C5H11N3O4.npz', 'C6H13N3O7.npz', 'C10H18.npz', 'C9H16O.npz', 'C9H10N2O3.npz', 'C19H33N3O3.npz', 'C3H6N8O.npz', 'C11H12O2.npz', 'C8H20N6O.npz', 'C10H21NO4.npz', 'C9H18O2.npz', 'C11H14N4O.npz', 'C11H21N3O4.npz', 'C7H17N3O4.npz', 'C6H2N4O2.npz', 'C4H11NO2.npz', 'C11H20O3.npz', 'C3H3N3O.npz', 'C13H27NO.npz', 'C10H12N2O4.npz', 'C3H9N7.npz', 'C6H8N2O2.npz', 'C11H20N2O2.npz', 'C8H16O3.npz', 'C14H20N2O3.npz', 'C4H5N5O.npz', 'C4H11N3O4.npz', 'C3H11N7O2.npz', 'C14H23NO3.npz', 'C9H12O.npz', 'C8H14N2.npz', 'C24H25N5O.npz', 'C7H16N2O2.npz', 'C5H4O2.npz', 'C2H8N6O3.npz', 'C10H21N3O3.npz', 'C4H14N4O3.npz', 'C10H15N3O2.npz', 'C13H25N3O.npz', 'C2H3N3O5.npz', 'H3NO2.npz', 'C8H13NO.npz', 'C16H24N6O5.npz', 'C6H12O3.npz', 'C5H8O2.npz', 'C5H13NO3.npz', 'C9H11NO5.npz', 'C9H9N5.npz', 'C6H15N5O3.npz', 'C13H19NO3.npz', 'C6H17N.npz', 'C7H8O4.npz', 'C9H15NO2.npz', 'C3H9N3O2.npz', 'C4H5N3O4.npz', 'C6H7NO4.npz', 'C2H5N5.npz', 'C12H26N8O3.npz', 'C7H7NO3.npz', 'C11H22N2O.npz', 'C8H5NO2.npz', 'C10H19NO2.npz', 'C2H9N5O2.npz', 'C10H24N4O.npz', 'C12H26N2O2.npz', 'C9H3N3.npz', 'C3H2O3.npz', 'C4H10N2.npz', 'C10H22N2O4.npz', 'C4H8.npz', 'C5H4N2.npz', 'C2H7N.npz', 'H5N3O2.npz', 'C5H8O3.npz', 'C4H13N3O4.npz', 'C10H14O.npz', 'C6H12N4O4.npz', 'C6H4N4O.npz', 'C7H10O4.npz', 'C17H24N6O3.npz', 'C8H14N4O2.npz', 'C12H22N2.npz', 'C5H6O.npz', 'C10H14N4O5.npz', 'CH4N2O3.npz', 'C9H13N3O2.npz', 'C6H11NO2.npz', 'C3H13N7O2.npz', 'CH4N4O2.npz', 'C8H21NO3.npz', 'C6H7NO6.npz', 'C13H14N2O6.npz', 'C2H2N6.npz', 'C11H15N3O.npz', 'C9H22O3.npz', 'H4N4.npz', 'H3N3O2.npz', 'C3H5N3O5.npz', 'C9H6O2.npz', 'C7H19N5O3.npz', 'C2H6N2O.npz', 'C6H5NO2.npz', 'H5NO.npz', 'C8H15N3O.npz', 'C11H24N2.npz', 'C10H17N3O3.npz', 'C9H11N5.npz', 'C5H9N3O.npz', 'C5H2O4.npz', 'C10H13NO3.npz', 'C3H5N5O.npz', 'C9H17NO2.npz', 'CH2N4O3.npz', 'C6H14N2O2.npz', 'C6H6N6O.npz', 'C7H16N2O4.npz', 'C3H3N3O5.npz', 'C5H5N3O.npz', 'C14H20N4O6.npz', 'C7H12N2O5.npz', 'C9H21N3O2.npz', 'C5H15N3O2.npz', 'C15H18N4O3.npz', 'CH5N3.npz', 'C6H3NO3.npz', 'CH7N5O.npz', 'C8H12N2O3.npz', 'C11H18N4O4.npz', 'C7H15N7O.npz', 'C7H3N3O2.npz', 'C9H11N5O.npz', 'C5H12O4.npz', 'C3H2N4O.npz', 'C9H15N3.npz', 'C10H19N5.npz', 'C6H10N2.npz', 'C3H5NO4.npz', 'C9H15N.npz', 'C16H23N5O3.npz', 'C12H9N3.npz', 'C6N2.npz', 'C6H13N3O.npz', 'C10H20N2O3.npz', 'C11H20N6O4.npz', 'C8H10N6.npz', 'C6H12.npz', 'C3H8O2.npz', 'C2H2N6O.npz', 'C11H18N4.npz', 'C5H6N2O5.npz', 'C11H22O2.npz', 'C5H10N6O.npz', 'C6H6N2O2.npz', 'H5N3.npz', 'C5H6N4O.npz', 'C7H19NO3.npz', 'H2O3.npz', 'C6H15N3O5.npz', 'C3H13N7O.npz', 'C9H14N2O2.npz', 'C4H11N7O.npz', 'H8O4.npz', 'C5H8N6O2.npz', 'C6H9N3O3.npz', 'C5H6N4O4.npz', 'C7H15N3O2.npz', 'C10H15N3.npz', 'C3H2N4O3.npz', 'C12H10O3.npz', 'C12H13N3O2.npz', 'C2H8O2.npz', 'C18H27N3O6.npz', 'C3H6N2O.npz', 'C14H25N3O2.npz', 'C8H12N6O3.npz', 'C3H8N4O.npz', 'C10H7NO2.npz', 'C4H12N6O2.npz', 'C10H17NO5.npz', 'C4H10N8.npz', 'C12H23N5O3.npz', 'C14H13NO2.npz', 'C2H3NO2.npz', 'C7H14N6O.npz', 'C3H7N5.npz', 'C14H12.npz', 'C14H22N6O2.npz', 'C9H20N2.npz', 'C3HN5O.npz', 'C13H23NO.npz', 'C9H9NO.npz', 'C11H19NO3.npz', 'C4H7NO7.npz', 'C2H6N6O.npz', 'C7H17NO3.npz', 'C13H19N3.npz', 'C2H8N2.npz', 'C4H7NO5.npz', 'C3H9N.npz', 'CH7N.npz', 'C4H8N2O3.npz', 'C3H3N3.npz', 'C9H12N4O.npz', 'C14H21NO2.npz', 'C5H10O6.npz', 'C3N2O3.npz', 'C3H13N5O2.npz', 'C10H12.npz', 'HNO3.npz', 'C8H12N2O.npz', 'C6H10N6.npz', 'C9H23NO6.npz', 'C7H16N2O3.npz', 'C9H23N3.npz', 'C3H7N7O.npz', 'C6H10N6O2.npz', 'C5H5N3.npz', 'CH4O5.npz', 'C3H10N2O4.npz', 'C13H24O.npz', 'C8H14N2O3.npz', 'CH4O.npz', 'C10H22O3.npz', 'H4N2O.npz', 'C10H6O2.npz', 'C6H4.npz', 'CN2O3.npz', 'C7H4.npz', 'C7H9N3O3.npz', 'C4H8N4O3.npz', 'C3H8N2O2.npz', 'C4H11NO6.npz', 'C6H15N3O3.npz', 'C6H8O.npz', 'C7H14N6O4.npz', 'C12H15N.npz', 'C3H9NO5.npz', 'C8H11N3O2.npz', 'C6H12N6O3.npz', 'C10H14N4O3.npz', 'C4H6N6O2.npz', 'C7H21N5O2.npz', 'C7H15N3.npz', 'C4H6N2.npz', 'C6H17N5.npz', 'C4H10O5.npz', 'C9H12O4.npz', 'C12H14O.npz', 'C9H2N2O.npz', 'C12H14O3.npz', 'C3H4N4O3.npz', 'C2H5N3O4.npz', 'C9H11NO.npz', 'C2H4N2O5.npz', 'C3H4O.npz', 'H2N2O3.npz', 'C8H2.npz', 'C12H14N4.npz', 'C3H12N6O2.npz', 'C4H7N.npz', 'C12H22O4.npz', 'C12H18N2.npz', 'C11H15N3O3.npz', 'C5HNO3.npz', 'C4H4O.npz', 'C16H31N3.npz', 'C3HN3O3.npz', 'C15H22N2O.npz', 'C7H14O5.npz', 'C8H16O7.npz', 'C10H15N5O.npz', 'C6H15NO6.npz', 'C5H6N4.npz', 'C4H11NO.npz', 'C13H26O.npz', 'C10H13N5O.npz', 'C14H32N4.npz', 'C6H13NO2.npz', 'C8H10O5.npz', 'C6H12N2O5.npz', 'C2H8N4O4.npz', 'C10H16O4.npz', 'C6H11NO5.npz', 'C5H3N7.npz', 'C5H4N4.npz', 'C11H26N4O.npz', 'C3H8N8.npz', 'C3H2N2O.npz', 'C10H13N3.npz', 'C9H18O3.npz', 'C5H10O.npz', 'C7H14N2O.npz', 'C13H24N2O2.npz', 'C5H5NO5.npz', 'C7H8N2O2.npz', 'C4H14N2O2.npz', 'C3H9N7O2.npz', 'C6H3N5O.npz', 'C4H14N4O.npz', 'C8H16O5.npz', 'C4H10O4.npz', 'C7H13N3O2.npz', 'C11H22.npz', 'C7H18N2O2.npz', 'C4H15N5O4.npz', 'C14H19N3O4.npz', 'C12H24O4.npz', 'C8H6N4O.npz', 'C14H11N.npz', 'C11H9NO.npz', 'C5H9NO.npz', 'C2H7NO3.npz', 'C6H10N6O3.npz', 'C9H18N2O3.npz', 'C9H23N3O2.npz', 'C14H27N3O8.npz', 'C10H16.npz', 'C12H18O2.npz', 'C14H23NO.npz', 'C6H10O2.npz', 'C6H4O.npz', 'C12H18N4O3.npz', 'C9H10N4.npz', 'C7H12O5.npz', 'C6H5NO4.npz', 'C8H10N2O.npz', 'C8H4N2O.npz', 'CH9N3.npz', 'C9H18O6.npz', 'C10H21N5O.npz', 'C10H8O3.npz', 'C5H10O5.npz', 'C9H19NO.npz', 'C11H16O3.npz', 'C2H2N2O2.npz', 'C6H10N2O.npz', 'C5H9N7.npz', 'C7H10N2O3.npz', 'C8H18N4O3.npz', 'C5H5NO4.npz', 'C10H18N2O5.npz', 'C12H6.npz', 'CH4N4.npz', 'C6H4N2O4.npz', 'CH6N4.npz', 'C3H12N4O.npz', 'C2H7N5O.npz', 'C3H8N2.npz', 'C12H8O2.npz', 'C6H9N5O3.npz', 'C11H17N3O.npz', 'C14H12N2.npz', 'C9H16O3.npz', 'C3H10N4.npz', 'C4H10N2O4.npz', 'C6HNO2.npz', 'C2H3N5O.npz', 'C2H6N2O6.npz', 'C8H4N4.npz', 'C22H22N4O3.npz', 'C2HN3O3.npz', 'C3H11NO3.npz', 'C4H6N2O4.npz', 'C9H21N.npz', 'C9H15N3O3.npz', 'C5H10N6.npz', 'C9H13N5O.npz', 'C9H7N3.npz', 'C2H4N6.npz', 'C9H16N6O.npz', 'C8H9N3O.npz', 'C3H10N4O2.npz', 'C8H11NO4.npz', 'C2H8N2O.npz', 'C5H16N6.npz', 'C9H23N7.npz', 'C11H12O.npz', 'C9H12N4.npz', 'C3H5NO.npz', 'C10H13NO.npz', 'C4H13N7.npz', 'C13H21N3O.npz', 'CH3N3O2.npz', 'C10H12N4.npz', 'C8H18N2O.npz', 'C3H5N3.npz', 'C9H6N2O3.npz', 'C4H6N8.npz', 'C13H17N.npz', 'C4H8O4.npz', 'C4H6N2O2.npz', 'C2H5N5O4.npz', 'C5H3NO3.npz', 'C19H31N5O3.npz', 'C10H8O2.npz', 'C10H17N.npz', 'C6H9N3O4.npz', 'C10H17N3O.npz', 'C5H12N2O.npz', 'C12H26N2O3.npz', 'C11H11N3O.npz', 'C7H16N4.npz', 'C10H22N2O.npz', 'C3H6N8.npz', 'C14H23N.npz', 'CH2N4.npz', 'C3H9N3O4.npz', 'C14H13NO.npz', 'C2H4O2.npz', 'H3NO5.npz', 'C4HNO.npz', 'C10H5NO.npz', 'C6H7N3O.npz', 'C7H2O.npz', 'C6H4N2.npz', 'C11H14N2O3.npz', 'C7H19N5.npz', 'C7H7N3O.npz', 'C6H21N7O2.npz', 'C5H4.npz', 'C7H10N6.npz', 'C4H3N5.npz', 'C2H4N4O4.npz', 'C5H14N6.npz', 'C6H8N2O3.npz', 'C6H17N3O.npz', 'C2H6N4.npz', 'C8H14N6O.npz', 'C16H19N3O3.npz', 'C14H12O2.npz', 'C3H11N3.npz', 'C7H7N3O3.npz', 'C5H13N5O3.npz', 'CH5N5O3.npz', 'C7H12N4O3.npz', 'C12H23NO4.npz', 'C6H14N4.npz', 'C3H8N4O4.npz', 'C5H7NO5.npz', 'C14H19N3O5.npz', 'C15H19N.npz', 'C2H7N3O.npz', 'CH3N5O3.npz', 'C5H13N5O.npz', 'C11H15NO5.npz', 'C8H23N3.npz', 'C7H11N3O3.npz', 'C7H6N2O.npz', 'C21H35N5O2.npz', 'C7H16N2O5.npz', 'C3H11N3O3.npz', 'C8H11NO5.npz', 'C5H6O2.npz', 'C13H16O2.npz', 'C6H3N3.npz', 'C4H10N6O.npz', 'C3H9N5O3.npz', 'CH8N4O4.npz', 'C2HN3O2.npz', 'C6H3N3O.npz', 'C2H8N2O4.npz', 'C8H6N4.npz', 'C8H9N5O.npz', 'C6H10N2O2.npz', 'C11H11NO.npz', 'C4H7N3.npz', 'C20H28N2O.npz', 'C6H15N7O.npz', 'C4H2N2O3.npz', 'C3H12N4O4.npz', 'C13H17N3O5.npz', 'C3H7N5O2.npz', 'C8H14N4O.npz', 'C3H7N7O2.npz', 'C11H12N2O2.npz', 'C3H9NO3.npz', 'C7H4N4O.npz', 'C5H11N3.npz', 'H2N2.npz', 'C7H20N6O3.npz', 'C6H5N3O.npz', 'C10H21NO2.npz', 'C8H15N3.npz', 'C5H16N6O2.npz', 'C8H15N5O.npz', 'C7H18N4O2.npz', 'C3H2N6O.npz', 'C12H20N2.npz', 'C7H11NO3.npz', 'C2HN5O5.npz', 'C3H10.npz', 'C10H22O6.npz', 'C8H11N3.npz', 'C8H19N5O2.npz', 'C8H8O3.npz', 'C3H6O4.npz', 'CH4.npz', 'C12H10N2O.npz', 'C3H11N5.npz', 'C12H17NO.npz', 'C6H4N2O3.npz', 'C4H6N8O.npz', 'C18H18N2O3.npz', 'C5H8N2O3.npz', 'C5H8N2O4.npz', 'C3H3NO5.npz', 'C4H8O2.npz', 'C2H8N4O5.npz', 'C2H6N4O4.npz', 'C4H10N2O6.npz', 'C8H16N2O2.npz', 'C7H18N2O.npz', 'C3H8O.npz', 'C5H14N4O4.npz', 'C9H18N2O2.npz', 'C2H2N6O4.npz', 'C3H9N5.npz', 'H4N4O.npz', 'C4H12N4O2.npz', 'CH4N4O3.npz', 'C9H10O3.npz', 'C8H18O.npz', 'C5H6N4O2.npz', 'C5HN.npz', 'C11H21N3O.npz', 'C9H21NO2.npz', 'C3H5NO3.npz', 'C3H9N7O3.npz', 'C5H14N2.npz', 'C4H7N7.npz', 'C4H2N2O.npz', 'C4H8N6O2.npz', 'C8H13N5O2.npz', 'C8H13NO5.npz', 'C6H5N.npz', 'C4H7NO3.npz', 'C2H9N3O3.npz', 'C4H2O2.npz', 'C8H14N6.npz', 'C7H2N2.npz', 'CH4N2O.npz', 'C11H23N.npz', 'C3H7N3.npz', 'C6H11N3O2.npz', 'C3H10N8.npz', 'C4H8N2.npz', 'C8H19N3O3.npz', 'C5H16N2O.npz', 'C9H6N4.npz', 'C7H8N4O2.npz', 'C6H6O5.npz', 'C3H6N4O2.npz', 'CH2N2O.npz', 'C12H20N6O.npz', 'C7H4N2.npz', 'C11H18N4O.npz', 'C6H15N7O4.npz', 'C3H6.npz', 'C7H8N6.npz', 'C4H2N4O2.npz', 'CH2N2O2.npz', 'C4H16N6O.npz', 'C4H14N2O.npz', 'C6H7NO2.npz', 'C5H4O.npz', 'C8H10N4.npz', 'C8H14N4O5.npz', 'C6H18N4O4.npz', 'C7H16O4.npz', 'CH2N4O2.npz', 'C6H15NO4.npz', 'C10H20O4.npz', 'C6H8N4O.npz', 'C5H16N4O.npz', 'C5H14N2O2.npz', 'C8H9NO5.npz', 'C4H10O2.npz', 'C13H24O2.npz', 'C7H17N3O2.npz', 'C11H11N.npz', 'H6N4.npz', 'C12H19NO3.npz', 'C6H7NO3.npz', 'C7H14N2O6.npz', 'C12H22O3.npz', 'C5H16N4.npz', 'C2H4N2O4.npz', 'C13H30O4.npz', 'C3H9N3O6.npz', 'C5H9N3O3.npz', 'C14H28N4.npz', 'C3H4N6.npz', 'C11H13NO2.npz', 'C8H2N2O2.npz', 'C3H8N4O2.npz', 'C3H12N4O2.npz', 'C7H5N3O2.npz', 'C3H14N4O.npz', 'C8H20O4.npz', 'C17H20N6O3.npz', 'C4H2N4O.npz', 'C12H14O2.npz', 'C3H11N3O4.npz', 'C13H18N2O5.npz', 'C15H17N3O5.npz', 'C6H9N3O2.npz', 'C11H16O4.npz', 'C11H24O3.npz', 'C7HN3.npz', 'C7H3NO.npz', 'C14H16N2O5.npz', 'C12H20.npz', 'C10H19N3.npz', 'C11H10O.npz', 'C8H4.npz', 'C11H16N4.npz', 'C15H22N2O4.npz', 'C12H16N2O.npz', 'C5H2N4O2.npz', 'C4H6N2O6.npz', 'C18H20N2O3.npz', 'CH6N2O4.npz', 'C5H10N6O2.npz', 'C8H16O4.npz', 'C5H7N3O5.npz', 'CH7N3O.npz', 'C3H12N2O.npz', 'C5H6N2O.npz', 'C10H20.npz', 'C11H12O3.npz', 'C6H4N2O.npz', 'C21H27NO.npz', 'C5H7N7.npz', 'C6H8N4.npz', 'C3H6N6O2.npz', 'C9H9N3O.npz', 'CH6N4O2.npz', 'C13H16N4O5.npz', 'C7H12.npz', 'C4HN3O.npz', 'C8H15NO5.npz', 'C10H14N2O2.npz', 'C15H19N3O4.npz', 'C9H18N4O.npz', 'CH8N6O.npz', 'C3H7N3O3.npz', 'C12H30N6O2.npz', 'C11H14N2O.npz', 'C4H2.npz', 'C14H27N3O2.npz', 'C5H4N4O.npz', 'C4H9NO6.npz', 'C6H6N4O4.npz', 'C3HNO2.npz', 'C12H15NO.npz', 'CH9N5O2.npz', 'C5H9N5O2.npz', 'CH6N2.npz', 'C2H9NO2.npz', 'C11H16N4O3.npz', 'C8H21N3O.npz', 'C8H15N3O4.npz', 'C11H18O3.npz', 'C7H13NO5.npz', 'C3H4N6O.npz', 'C8H19NO2.npz', 'C12H17N.npz', 'C9H7N.npz', 'C11H22N4O4.npz', 'C7H3N.npz', 'C17H20N8.npz', 'C10H14O4.npz', 'C6H11NO4.npz', 'C8H18N2O5.npz', 'C16H21N.npz', 'C6H5NO3.npz', 'C4H7NO6.npz', 'C7H19N3O.npz', 'C4H7N5O2.npz', 'N2O2.npz', 'C6H10.npz', 'C6H16N4.npz', 'C13H10O2.npz', 'C5H10N4O3.npz', 'H5NO4.npz', 'C2H9N5.npz', 'C5H13N5O4.npz', 'C12H25N3O.npz', 'C8H4N2.npz', 'C10H12N2O3.npz', 'C4H13N7O.npz', 'C3H9N3O3.npz', 'C3H5N7O2.npz', 'C6H15N3.npz', 'C3H7N3O2.npz', 'C4H8N2O5.npz', 'C4H13NO.npz', 'C13H25N.npz', 'C11H20O2.npz', 'C5H11NO5.npz', 'C4H6N2O3.npz', 'C8H3NO3.npz', 'C2H8N6O2.npz', 'C9H10O2.npz', 'C11H21N5O3.npz', 'C7H11N.npz', 'C12H14N2O.npz', 'C12H14N2O8.npz', 'C11H21NO.npz', 'C12H24N2O2.npz', 'CHNO.npz', 'C17H21N5O.npz', 'C5H18N4O2.npz', 'C5H2O2.npz', 'C4H5N3O.npz', 'C4H10N4O4.npz', 'C6H15NO.npz', 'C7H7N3O2.npz', 'C6H15N3O.npz', 'C18H16N4O.npz', 'C9H14O2.npz', 'C3HNO5.npz', 'C10H15N.npz', 'C14H18N2O5.npz', 'C16H20N4O3.npz', 'C2H7N5O4.npz', 'C3H8N6O4.npz', 'C8H8N6O.npz', 'C3H8.npz', 'C3H15N9.npz', 'C8H21NO.npz', 'C13H24N4.npz', 'C6H14O7.npz', 'C10H20N2O4.npz', 'C6H12N2.npz', 'C14H29N.npz', 'C5H13N3O2.npz', 'C15H16N4O4.npz', 'C2H6N4O2.npz', 'C6H13N5O3.npz', 'H14O7.npz', 'C8H12N6O2.npz', 'H2N4.npz', 'C12H11N3.npz', 'C3HN5.npz', 'C12H27N5.npz', 'C19H36N4O3.npz', 'C5H12N2O2.npz', 'C4H14N4.npz', 'C2H6O.npz', 'C9H14N2O5.npz', 'C8H18O2.npz', 'C9H23N3O.npz', 'C3H14N8.npz', 'C13H17NO.npz', 'C8H10O6.npz', 'C6H13N3O3.npz', 'C9H20O3.npz', 'C2H6N6O3.npz', 'C7H9NO2.npz', 'C8H3N.npz', 'C15H23N5O4.npz', 'C3H5NO2.npz', 'C7H13N3O3.npz', 'C5H6N2.npz', 'C5H13N3.npz', 'C15H23N3O4.npz', 'C12H14.npz', 'C6H4N6.npz', 'C2H5N3O5.npz', 'C10H10N4.npz', 'C3H11N3O.npz', 'C6H16N8.npz', 'C7H11N3O.npz', 'C6H17N5O.npz', 'C5H8O4.npz', 'C13H16N2.npz', 'C7H16O5.npz', 'C11H17N.npz', 'C7H8N4O.npz', 'C7H17N.npz', 'C9H14N2.npz', 'C8H22N2O2.npz', 'C10H20N4O4.npz', 'C13H21N3.npz', 'C5H3NO2.npz', 'C13H18N2O4.npz', 'C6H15N5O.npz', 'C7H6O5.npz', 'C2HN3O4.npz', 'C8H7NO3.npz', 'C10H10O5.npz', 'C6H11N5O3.npz', 'C9H18N2O.npz', 'CO2.npz', 'C11H14O3.npz', 'C2H8N6.npz', 'C7H12N6.npz', 'C16H17N7O.npz', 'C8H20N4O2.npz', 'C2H8N8O2.npz', 'C3H2N4.npz', 'C11H14N2.npz', 'CH5NO3.npz', 'C15H18N4O4.npz', 'C14H28O3.npz', 'C6H3N3O2.npz', 'C10H17NO4.npz', 'C7H12N4.npz', 'C5H18N6O.npz', 'C8H12N4O.npz', 'C2H7N3.npz', 'C4H4O6.npz', 'C10H10O2.npz', 'C8H6N2O.npz', 'C5H14O.npz', 'C6H5N7.npz', 'C10H22N4.npz', 'C5H15N3O3.npz', 'C3H2O2.npz', 'C14H21N5O3.npz', 'C10H14O3.npz', 'C12H15NO3.npz', 'C7H9N3O.npz', 'C5H11NO4.npz', 'C4H11N3.npz', 'C3H6N4O5.npz', 'C4H16N4.npz', 'C12H26.npz', 'C12H28N4O.npz', 'CH7NO2.npz', 'C12H16N2O5.npz', 'C15H20N2.npz', 'C6H13NO5.npz', 'C9H22N2O2.npz', 'H4O6.npz', 'C10H19N3O2.npz', 'C9H7NO2.npz', 'C9H8O3.npz', 'C14H18N2O4.npz', 'C9H7NO3.npz', 'C10H17NO2.npz', 'C5H15NO.npz', 'C5H13N.npz', 'C15H23N.npz', 'C7H13N5O.npz', 'C8H22N6O2.npz', 'C13H20N2O.npz', 'C8H9NO2.npz', 'C6H7N3O3.npz', 'C7H13N3O5.npz', 'C17H23N3O5.npz', 'CH3NO3.npz', 'C3H3NO.npz', 'C6H6.npz', 'C5H13N5O2.npz', 'H2O4.npz', 'CO.npz', 'C17H36O2.npz', 'C10H4N2.npz', 'C3O5.npz', 'C10H26N4.npz', 'C22H27N5O.npz', 'C6H10O6.npz', 'C2H6N2O3.npz', 'C16H25N5O5.npz', 'C7H10N4O.npz', 'C8H7N3.npz', 'C9H6O3.npz', 'C5H4N2O4.npz', 'HN3O2.npz', 'C10H16N6.npz', 'C6H16N6.npz', 'C6H6N2.npz', 'C5H2O.npz', 'C5H8.npz', 'C6H6O6.npz', 'C2N4O.npz', 'H8N4.npz', 'C7H18N4O.npz', 'C12H26N4.npz', 'C14H17N.npz', 'C14H26N2.npz', 'C6H19N3.npz', 'C6H16N2O2.npz', 'C3HNO3.npz', 'C4H7NO2.npz', 'C13H11N.npz', 'C7H10O5.npz', 'C8H13N3O3.npz', 'CH6O4.npz', 'C7H13N3.npz', 'C8H17N7.npz', 'C3H8N8O.npz', 'C2H5N3O.npz', 'C15H23N3O3.npz', 'C10H18N4O.npz', 'C2N4O3.npz', 'C6H2N2O3.npz', 'C12H27N3O3.npz', 'C2H4O5.npz', 'C6H7N5.npz', 'C14H22O.npz', 'C9H10N4O2.npz', 'C8H22N2.npz', 'C7H8.npz', 'C9H15NO5.npz', 'C20H21N3O4.npz', 'C6H5N5O.npz', 'C4H12N2O2.npz', 'C2N2O5.npz', 'C9H8O4.npz', 'C6H19N3O2.npz', 'C12H12N4.npz', 'H4N2O4.npz', 'C8H6O4.npz', 'C9H12N2O.npz', 'C7H5NO3.npz', 'H4O2.npz', 'C10H12O4.npz', 'C7H6O4.npz', 'C3H8N4O5.npz', 'C11H22O.npz', 'C2H8N4O2.npz', 'C3H2O.npz', 'C6HN3O3.npz', 'C11H9NO2.npz', 'C4HNO3.npz', 'C10H10O.npz', 'C12H15NO2.npz', 'C7H13N5.npz', 'C4H7N3O2.npz', 'C10H16N4.npz', 'C2H5N5O.npz', 'C4H6O5.npz', 'C8H9N3O2.npz', 'C9H17N3O2.npz', 'C6H12N4O3.npz', 'C8H19N3.npz', 'C8H17N5O.npz', 'C6H2N2O2.npz', 'C12H20N4O6.npz', 'C5H3N3O.npz', 'C7H16N4O.npz', 'C5H8O7.npz', 'C3H2O4.npz', 'C9H16N2O3.npz', 'C9H9N3O2.npz', 'C2H2O2.npz', 'C19H19N5O.npz', 'C8H23N5O2.npz', 'C5H14N4.npz', 'C9H19N3.npz', 'C12H24N2O.npz', 'C9H8N2O3.npz', 'C2H9N3O.npz', 'C2H6N2.npz', 'C2H7NO2.npz', 'C13H22.npz', 'C2H6N10.npz', 'C11H18O4.npz', 'H5N3O.npz', 'C5H7N5O2.npz', 'C2H2.npz', 'C5H5N5O2.npz', 'C13H20N2O2.npz', 'C2H4N2.npz', 'C3H7N9.npz', 'C2H8N4O.npz', 'C7H5NO.npz', 'C9H17N3.npz', 'C6H19N7O2.npz', 'C14H15N.npz', 'C7H15N3O3.npz', 'C7H9N3O4.npz', 'C11H15N5O.npz', 'C11H22O4.npz', 'C5H16N4O3.npz', 'C11H19NO2.npz', 'C9H14O.npz', 'C14H20N2.npz', 'C12H29NO4.npz', 'C7H6.npz', 'C4H7N3O3.npz', 'C3H11N3O2.npz', 'C4H4N4O4.npz', 'C8H19N3O2.npz', 'C8H9NO.npz', 'C12H24N2O3.npz', 'CHN3O2.npz', 'C7H17N7O3.npz', 'C12H19N3O7.npz', 'C15H21N3O4.npz', 'C7H12O2.npz', 'C11H14N2O2.npz', 'C11H25N3O.npz', 'C7H10N4O3.npz', 'C9H4N2O.npz', 'C6H8N8.npz', 'C5H7NO6.npz', 'C9H21NO3.npz', 'C10H26N2.npz', 'CH2N4O.npz', 'C10H19N.npz', 'O3.npz', 'C8H15N3O3.npz', 'C9H17N3O5.npz', 'C8H14N4O3.npz', 'C5H15N5O2.npz', 'C12H26N2O.npz', 'C6H4O4.npz', 'C5H15N3O4.npz', 'C3H11N5O2.npz', 'H6N2.npz', 'C9H19N.npz', 'C3H2N2O2.npz', 'C4H4N2.npz', 'C11H20.npz', 'C12H22O2.npz', 'C4H11N5O2.npz', 'C8H21N3O3.npz', 'C4H2N2O4.npz', 'C11H22N2O3.npz', 'CH5NO2.npz', 'C8H11N.npz', 'C13H15N3O6.npz', 'C6H12N4O2.npz', 'C8H10O3.npz', 'C11H11N3.npz', 'C10H5N.npz', 'C4H3N3.npz', 'C10H16N2O3.npz', 'C6H14O.npz', 'C6H17N3O4.npz', 'C6H18N4O2.npz', 'C10H7NO3.npz', 'C4H14N8.npz', 'C10H13N.npz', 'C3H4N2.npz', 'C10H24N2O.npz', 'C4H8N6.npz', 'C14H19N.npz', 'C7H10O6.npz', 'C12H12N2.npz', 'C2H7NO5.npz', 'N2O3.npz', 'CH3N5O2.npz', 'C5H9N5O4.npz', 'C5HNO2.npz', 'C5H14N2O5.npz', 'C2H5NO.npz', 'C4H8N4O2.npz', 'C2H6N6O2.npz', 'C8H5N.npz', 'C2H2N2.npz', 'C11H12N2O.npz', 'C5H13N7.npz', 'C15H18N4O2.npz', 'C7H15NO5.npz', 'C14H22N2.npz', 'CH5N7.npz', 'C15H17N.npz', 'C5H11N7O2.npz', 'C2HNO3.npz', 'C7H11N5O3.npz', 'CH5N5O2.npz', 'C3H7N5O4.npz', 'C8H20N4O.npz', 'C4H16N8.npz', 'C6H7N5O2.npz', 'C9H4N2O2.npz', 'C5H5N3O4.npz', 'C7H6O2.npz', 'C7H8O5.npz', 'C10H16O3.npz', 'C9H17N5O.npz', 'C6H18N6.npz', 'C8H16N2O.npz', 'C9H8O.npz', 'C8H17NO3.npz', 'C9H13N3O3.npz', 'C11H8N2O2.npz', 'C6H15N3O2.npz', 'C11H14.npz', 'C9H12O2.npz', 'C2H10N4O3.npz', 'C7H14N2.npz', 'C2H5N3O3.npz', 'C9H19NO2.npz', 'C6H10O5.npz', 'C8H12O4.npz', 'C12H25N5O3.npz', 'C5H10N4O2.npz', 'C8H14O5.npz', 'C14H26N2O2.npz', 'C8H20N4.npz', 'C10H18N4O5.npz', 'C5H11N5O3.npz', 'C3H13N9.npz', 'C5H13NO5.npz', 'C15H22N2O3.npz', 'C4H5N3O3.npz', 'C2H2N2O3.npz', 'C2N6O.npz', 'C4H13N5.npz', 'C3H4O6.npz', 'C10H16O5.npz', 'C10H10.npz', 'C8H12N4.npz', 'C4H9N7O.npz', 'C8H11NO3.npz', 'C4H3NO3.npz', 'C6H8N2O4.npz', 'C8H19NO5.npz', 'C12H20N2O.npz', 'C4H2N2O2.npz', 'C8HN3O.npz', 'C8H2N4.npz', 'C3H7N5O3.npz', 'C8H11N3O.npz', 'C8H21N3.npz', 'C5H7N3O4.npz', 'C9H11N3O.npz', 'C8H21N5O2.npz', 'C8H18N2O6.npz', 'C13H12O.npz', 'C5H3N5.npz', 'C4H5NO4.npz', 'C10H22N4O2.npz', 'C4H15N3.npz', 'C4H5N3O2.npz', 'C3H7N3O4.npz', 'C5H7N5O.npz', 'C4HN3.npz', 'C14H22N2O.npz', 'C4H4.npz', 'C6H14N6O5.npz', 'C15H23N5O3.npz', 'H16O8.npz', 'CH4N6.npz', 'C5H5N7.npz', 'C3H6N6.npz', 'C13H21NO2.npz', 'C6H11NO6.npz', 'C9H12O3.npz', 'C6H18N4O.npz', 'C12H16N2O4.npz', 'CH3N3O3.npz', 'C6H13N5O4.npz', 'C3H9NO.npz', 'C2H11N3.npz', 'C7H12O.npz', 'C8H12N2O2.npz', 'C9H15NO.npz', 'C6H6N2O.npz', 'C10H15NO.npz', 'H5NO3.npz', 'C15H29N3.npz', 'C12H21N5O3.npz', 'C3H12N2O2.npz', 'C5H8N6O3.npz', 'C8H15N.npz', 'C6H13N3O2.npz', 'C4H5N5O2.npz', 'C11H12N4O2.npz', 'C10H21N5O4.npz', 'C13H14N2O.npz', 'C7H7NO5.npz', 'C10H20N6O4.npz', 'C14H24N2.npz', 'C11H24.npz', 'C8H14O3.npz', 'C5H9N3O2.npz', 'C10H16N2O4.npz', 'C5H8N4O3.npz', 'C5H4N4O2.npz', 'C9H10N2O.npz', 'C2H6N4O3.npz', 'C14H21N.npz', 'C13H21N3O6.npz', 'C5H8O5.npz', 'C12H13NO.npz', 'C11H10O7.npz', 'C10H15NO2.npz', 'C4H2O5.npz', 'C3H8N6O2.npz', 'C20H21N3O3.npz', 'C6H18N2O5.npz', 'C4H4N6.npz', 'C3H4N4O5.npz', 'C9H16O2.npz', 'C3H7N5O.npz', 'CH2O3.npz', 'C6H14N4O.npz', 'C8H10O.npz', 'C11H15NO3.npz', 'C6H18N6O2.npz', 'C14H20N2O4.npz', 'CH2N2.npz', 'C3H10N6.npz', 'C7H20N2O3.npz', 'C8H16N4O2.npz', 'C11H11N3O2.npz', 'CH4O2.npz', 'C7H7N5O.npz', 'C7H6N6.npz', 'C5H14N4O2.npz', 'CH9N5O.npz', 'C8H10N4O3.npz', 'C3H11N5O.npz', 'C5H8N4O4.npz', 'C8H9NO3.npz', 'C10H14O5.npz', 'C4H13NO4.npz', 'C6H13N5O.npz', 'C7H13NO.npz', 'C7H16N2.npz', 'C2H5NO5.npz', 'C16H22N4O3.npz', 'C10H16N4O2.npz', 'C9H14N4.npz', 'C7H16O6.npz', 'C5H11N5.npz', 'C8H10N6O.npz', 'C4H9NO4.npz', 'C9H14N2O4.npz', 'C2H9N3O2.npz', 'C5H8N2O.npz', 'C3H11NO2.npz', 'C12H25NO2.npz', 'C9H10N2O2.npz', 'C4H4N2O6.npz', 'C13H12N2O.npz', 'C3H8N6.npz', 'C7H17N3O.npz', 'C10H18O.npz', 'C12H26O7.npz', 'C4H6O3.npz', 'C5H14N2O.npz', 'C3H10N6O.npz', 'C11H8O.npz', 'C2H8N8O.npz', 'C9H16N4O5.npz', 'C7H15N5.npz', 'C9H22O4.npz', 'C13H17NO2.npz', 'C3H2N6O3.npz', 'C8H20N2O2.npz', 'C4H10N2O3.npz', 'C8H21NO2.npz', 'C5H12N6O2.npz', 'C9H12N4O4.npz', 'C9H18O.npz', 'C12H26N6O3.npz', 'C11H17NO2.npz', 'C5H11NO2.npz', 'C8H16O6.npz', 'C7H12O4.npz', 'C10H25N3O3.npz', 'C8H14N4.npz', 'C4H5N7O.npz', 'C12H14N2O2.npz', 'C6H9NO6.npz', 'C8H3NO2.npz', 'C12H25N.npz', 'C14H19N3O6.npz', 'C4H5N7.npz', 'C6H16N8O3.npz', 'C6H17NO4.npz', 'C3H5NO5.npz', 'C8H15N5O2.npz', 'C6H6N4O2.npz', 'C9H22O.npz', 'C7H17N5O2.npz', 'C9H6O.npz', 'C13H17NO3.npz', 'C14H17N3O3.npz', 'C5H5N5O.npz', 'C7H16O2.npz', 'C2H10N4O.npz', 'CH3NO4.npz', 'C6H17N7O2.npz', 'CH2N2O4.npz', 'C9H9NO3.npz', 'C10H3NO.npz', 'C11H7NO.npz', 'C5H3N3O2.npz', 'CH7NO3.npz', 'C6H10O3.npz', 'C7H9N3.npz', 'C7H15N3O4.npz', 'C9H13N5.npz', 'C9H9N5O.npz', 'C7H16N2O7.npz', 'C4H13N5O3.npz', 'C11H24N2O3.npz', 'C2H4N8O2.npz', 'C12H24O6.npz', 'C6H19N3O.npz', 'C5H14N4O3.npz', 'C12H22N2O.npz', 'C4H9NO.npz', 'C13H25N3.npz', 'C11H17NO4.npz', 'C10H9N3O.npz', 'C2H2N2O4.npz', 'C10H24N2O2.npz', 'C10H23N3O2.npz', 'C3H9N9.npz', 'C6H11N5O2.npz', 'C6H19N5.npz', 'C6H20N6.npz', 'C7H20N4O.npz', 'C8H7N3O.npz', 'C8H13N3O2.npz', 'C5H15N5.npz', 'C9H11N.npz', 'C9H17N3O.npz', 'C5H8N2O5.npz', 'C5H16N2O2.npz', 'H2N2O.npz', 'C9H14.npz', 'C5H16N6O3.npz', 'C12H24N4.npz', 'C3H5N5.npz', 'C3H9N5O2.npz', 'C12H21NO2.npz', 'C9H22N4.npz', 'C5H3N3.npz', 'C10H9NO2.npz', 'C13H21N9O.npz', 'C8H22N2O.npz', 'C6H9NO4.npz', 'C4H7N5O3.npz', 'C7H11N5.npz', 'CH6N6O.npz', 'CH6N2O2.npz', 'C9HN3.npz', 'C11H16O.npz', 'C8H8N2O3.npz', 'C10H21N.npz', 'C9H9NO2.npz', 'C10H24O2.npz', 'CH6O.npz', 'C2H5N3.npz', 'HN3.npz', 'C13H19NO.npz', 'C7H7NO.npz', 'C7H4N2O3.npz', 'C17H22N4O4.npz', 'C9H10O5.npz', 'C6H14N2O.npz', 'C9H16.npz', 'C20H23N3.npz', 'C7H16O3.npz', 'CH3N7.npz', 'C6H12N2O3.npz', 'C10H10N2.npz', 'C7H8O3.npz', 'C12H18N2O2.npz', 'C7H6N2.npz', 'C3H10N2O3.npz', 'C11H20O.npz', 'H4N2O2.npz', 'C10H18N2O2.npz', 'C2H7N7O.npz', 'C9H17N3O3.npz', 'C4H2O4.npz', 'C5H15N3.npz', 'C2H7N5O2.npz', 'C9H15NO4.npz', 'C11H20O4.npz', 'C11H10O4.npz', 'C2H7N3O2.npz', 'C7H9N5.npz', 'C4H8N8.npz', 'C11H24O4.npz', 'C3H12N8O.npz', 'C10H8N2O2.npz', 'C4H8N2O2.npz', 'C4H3N5O.npz', 'C9H10.npz', 'C5H10N2O3.npz', 'C14H22N2O2.npz', 'C5H2N2.npz', 'C6H10O.npz', 'C2H5N9O.npz', 'C4H13N3O2.npz', 'C17H24N4O3.npz', 'C8H20N4O3.npz', 'C4H6O4.npz', 'C6H7N5O.npz', 'C11H10O2.npz', 'C2N4O2.npz', 'C8H14N2O4.npz', 'C8H4O4.npz', 'C12H11NO3.npz', 'C4H2N4.npz', 'C14H14O2.npz', 'C2H5N7.npz', 'C8H10.npz', 'C13H14N2.npz', 'C8H12N2O7.npz', 'C12H29N5O.npz', 'C11H15N3O2.npz', 'C9H11NO4.npz', 'CHN3O.npz', 'C2H10N4O2.npz', 'C12H16O.npz', 'C9H16N4O2.npz', 'C9H13NO2.npz', 'C10H9NO3.npz', 'C6H13NO4.npz', 'C4N4.npz', 'C10H20O3.npz', 'C6H3N5.npz', 'C6H4N6O2.npz', 'C7H17NO5.npz', 'C7H8N2O3.npz', 'C3H4O4.npz', 'C2H8O.npz', 'C4H11NO5.npz', 'C6H19N3O3.npz', 'C11H10.npz', 'C7H14N2O2.npz', 'C7H14O.npz', 'C7H11NO2.npz', 'C12H11NO2.npz', 'C3H8N2O3.npz', 'C7H19N3O2.npz', 'C7H5N5.npz', 'C2N2.npz', 'C6H14N2.npz', 'C13H18N2.npz', 'C2H7N5O3.npz', 'C5H14O3.npz', 'C12H31N5O2.npz', 'C3H10N4O5.npz', 'C2H2O3.npz', 'C2H10N6O.npz', 'C4H12N8O.npz', 'C9H3NO2.npz', 'C6H12N2O4.npz', 'C2H2N4O.npz', 'C11H6O2.npz', 'C4H10N4O.npz', 'C6H2N2O.npz', 'C3H8O3.npz', 'C4H4N2O3.npz', 'C3H2N6.npz', 'C8H10N4O2.npz', 'CH8N4O.npz', 'C7H11NO4.npz', 'C4H8N2O4.npz', 'C6H17N3O2.npz', 'C6H10N4O2.npz', 'C6H18N4.npz', 'C5H12N2O5.npz', 'C4H9N7.npz', 'C8H10N2O3.npz', 'C3H6N2.npz', 'C14H14N6O3.npz', 'C3H10N2.npz', 'C6H8N2.npz', 'C5H7NO.npz', 'C6H16N4O4.npz', 'C5H15N3O.npz', 'C14H13N.npz', 'C5H15N7O2.npz', 'C5H10O3.npz', 'C4H8N2O6.npz', 'C13H15N3.npz', 'C11H23N3O3.npz', 'CH3N5O.npz', 'C4H7N5O.npz', 'C10H20N2O2.npz', 'C7H6N4O.npz', 'C4H9N.npz', 'C10H22N2O3.npz', 'C6H11N.npz', 'C3H9N5O4.npz', 'C3H10O4.npz', 'CH7N5O2.npz', 'C4H3N3O3.npz', 'C3H6N2O4.npz', 'C9H19N5O.npz', 'C5H8N2.npz', 'C10H14N4.npz', 'C14H18N2O6.npz', 'C4H12O4.npz', 'C3H4N2O2.npz', 'C2H3N3.npz', 'C2H5NO3.npz', 'C2H4N4O2.npz', 'C3H7NO2.npz', 'C5H13N7O2.npz', 'H2O.npz', 'C13H10N2.npz', 'C11H19N3.npz', 'C2H5NO4.npz', 'CH6N4O4.npz', 'C4H11N5O3.npz', 'C5H6N6O.npz', 'C7H7N3O4.npz', 'C4H4O2.npz', 'C4H5N3.npz', 'C3H4N4O4.npz', 'CH7NO.npz', 'C10H13NO2.npz', 'C7H17NO4.npz', 'C10H14N2.npz', 'C13H19N.npz', 'C8H4O3.npz', 'C9H20O2.npz', 'C3H4O3.npz', 'C9H13NO4.npz', 'C8H12N4O2.npz', 'C4H12N4O.npz', 'C11H8.npz', 'C5H11N.npz', 'CH6O3.npz', 'C12H17N3O.npz', 'C4H15N5.npz', 'C2H5N.npz', 'C17H23N3O3.npz', 'C3H3N5.npz', 'C4H12N2O4.npz', 'C7H10O3.npz', 'C9H16N2O5.npz', 'C2H2O4.npz', 'C6H14N6O3.npz', 'C8H15N5.npz', 'C11H20N2O.npz', 'C2H4N2O2.npz', 'C10H23NO3.npz', 'C13H13N.npz', 'CHN.npz', 'C2H3N3O4.npz', 'C3H6N4O.npz', 'C14H34N4O2.npz', 'C5H16N2.npz', 'C9H14N2O3.npz', 'C6H9N7.npz', 'C8H9N3O3.npz', 'C5H10N2O.npz', 'C2H2N4O2.npz', 'C9H10O.npz', 'C12H18N2O.npz', 'C7H9N3O2.npz', 'C7H15NO3.npz', 'C6H4O5.npz', 'C10H18N4.npz', 'C11H19N3O.npz', 'C11H13N3O2.npz', 'C6H12N2O2.npz', 'C13H18N8O2.npz', 'H2N2O2.npz', 'C10H26N2O6.npz', 'C10H12O3.npz', 'C2H7N3O3.npz', 'C8H24N4O.npz', 'C4H9N5O.npz', 'C21H27N5O2.npz', 'C3H7NO4.npz', 'C6H16N2.npz', 'C10H14O2.npz', 'C9H8O2.npz', 'C11H19N.npz', 'C2H4O4.npz', 'C13H11NO2.npz', 'C6H8O4.npz', 'C2H10N6.npz', 'C11H21N3O5.npz', 'C4H6O2.npz', 'C4H13N3O.npz', 'C3H9N3O.npz', 'C4H10N2O.npz', 'C3H12N2O3.npz', 'C11H14O2.npz', 'C6H8O3.npz', 'C4H6O8.npz', 'C4H10N4O2.npz', 'C4H12.npz', 'C12H22O.npz', 'C6H17N5O2.npz', 'C11H21N3.npz', 'C8H18N2O3.npz', 'C5H12N6.npz', 'C2HNO2.npz', 'C7H8O.npz', 'C5H9NO2.npz', 'C9H24N4O.npz', 'C7H19N5O2.npz', 'C11H27N.npz', 'C8H17NO.npz', 'C5H12N4O4.npz', 'C12H16N2.npz', 'C7H12O7.npz', 'C13H22N2O.npz', 'C11H18O2.npz', 'C2H3N7O2.npz', 'C4HN3O2.npz', 'H7N3O.npz', 'C10H16N4O4.npz', 'C10H23N3O.npz', 'C7H20N2O2.npz', 'C12H25NO.npz', 'C10H20O.npz', 'C10H11NO.npz', 'C7H16N4O2.npz', 'C4H6N6O.npz', 'C14H16O.npz', 'C6H14N2O3.npz', 'C11H12O4.npz', 'C15H25NO7.npz', 'C7H10N2O2.npz', 'C8H11N3O3.npz', 'C3H5N.npz', 'C6H14N6O4.npz', 'C8H18N4O2.npz', 'C5H2N4.npz', 'C11H10N2O.npz', 'C6H6O.npz', 'C12H16N2O2.npz', 'C9H17NO5.npz', 'C11H16N4O5.npz', 'C12H22.npz', 'C12H23N3.npz', 'C4N2.npz', 'C7H11N5O2.npz', 'C5H8N2O2.npz', 'C2H2N2O5.npz', 'C10H14.npz', 'C12H28O3.npz', 'C17H17NO6.npz', 'CH6O2.npz', 'C9H10N4O3.npz', 'C3H12N6O3.npz', 'C2H11N5O.npz', 'C3H5N3O2.npz', 'C10H6O.npz', 'C2H7N7O3.npz', 'C3H9N3O5.npz', 'C4H14N6O3.npz', 'C8H13N5.npz', 'C3H10N2O5.npz', 'C14H19NO.npz', 'C10H19N3O3.npz', 'C2H4N4O.npz', 'C5H15N5O3.npz', 'C3H4N2O3.npz', 'C8H19NO3.npz', 'C4H11N7.npz', 'C5H6N2O4.npz', 'C7H18N4O3.npz', 'C3H11N9.npz', 'C11H3N.npz', 'C6H8N2O5.npz', 'C5H8O.npz', 'H6O3.npz', 'C4H4N4O.npz', 'C8H17N5O3.npz', 'C9H20O5.npz', 'C7H14O2.npz', 'C6H4N2O2.npz', 'C8H20N2O5.npz', 'C10H17N3O2.npz', 'C13H27N3O.npz', 'C10H14N6.npz', 'C7H10N2O4.npz', 'C6H13NO.npz', 'C13H15N3O3.npz', 'C11H13N3O.npz', 'C5H18N6O2.npz', 'C12H14N4O5.npz', 'C14H17NO2.npz', 'CH5NO4.npz', 'C9H10O4.npz', 'C3H11N7.npz', 'C5H9N5.npz', 'C5H11NO.npz', 'C2HN5O.npz', 'C8H17N3O3.npz', 'C4H12N4O4.npz', 'C7H5N3.npz', 'C12H24O.npz', 'H3NO3.npz', 'C13H24N2.npz', 'C12H21N3O2.npz', 'C3H9N5O.npz', 'C4H10O3.npz', 'C9H7NO4.npz', 'C11H4O.npz', 'CH2N2O5.npz', 'C12H16O3.npz', 'C4H4O5.npz', 'C13H18O2.npz', 'C2N2O4.npz', 'C5H12N2O3.npz', 'C14H11N3.npz', 'CH4N6O.npz', 'C8H18N2O4.npz', 'C7H14.npz', 'C6H10N4O.npz', 'C10H16O.npz', 'C10H18O4.npz', 'C8H8N2.npz', 'C10H23NO.npz', 'C6H9N5O.npz', 'C11H12N2.npz', 'C7H6N4O2.npz', 'C13H14O2.npz', 'H6N2O3.npz', 'C6H3N3O3.npz', 'C11H14N4O3.npz', 'C6H8N4O3.npz', 'C12H12O.npz', 'C10H16N2O.npz', 'C8H16N2O3.npz', 'C9H10N4O.npz', 'C11H17N3.npz', 'C6H14N2O6.npz', 'C10H16N2O7.npz', 'C11H15N3.npz', 'H2N2O4.npz', 'C10H20N2.npz', 'C5N2O.npz', 'C8H13N.npz', 'C9H10N2.npz', 'C3H7N7.npz', 'C5H5N.npz', 'C4H12O3.npz', 'C8H17N3O.npz', 'C4H2N6O2.npz', 'C6H9N3.npz', 'C10H10N4O.npz', 'C9H8N4O.npz', 'H4N2O3.npz', 'C10H15N5.npz', 'C11H9N3O.npz', 'C6H5N3O3.npz', 'C6H11N3O4.npz', 'C8H17N5O2.npz', 'C5H4N6O.npz', 'CH5N7O.npz', 'C3H4N4O.npz', 'C10H7N.npz', 'C10H12N2O.npz', 'C8H20N2O3.npz', 'C13H17N3O.npz', 'C3H11N5O4.npz', 'C5H5N3O3.npz', 'C18H24N4O.npz', 'C6H11N3O3.npz', 'C9H8N2O.npz', 'C7H9N7O.npz', 'C12H27N3O.npz', 'C5H12O3.npz', 'C2H8N4O3.npz', 'C8H13N3.npz', 'C3H2N4O5.npz', 'C7H6N2O3.npz', 'C12H12.npz', 'C4H9N3O5.npz', 'C6H7NO5.npz', 'C13H10.npz', 'C7H16O.npz', 'C3H5N7O.npz', 'C7H10O2.npz', 'C8H5N3O.npz', 'C8H17N.npz', 'C4H8N2O.npz', 'C10H8N2.npz', 'C14H17N7O3.npz', 'C5H3NO.npz', 'C8H7NO.npz', 'C2H6O4.npz', 'C2H8N6O.npz', 'C4H3N3O2.npz', 'C9H9N.npz', 'C2H9NO3.npz', 'C7H10N4.npz', 'C6H19N5O4.npz', 'C5H13N3O.npz', 'C5H12N4.npz', 'C4H6N4O.npz', 'C4N2O2.npz', 'C7H6O3.npz', 'C7H8N4O4.npz', 'C10H17NO.npz', 'C7H8N4.npz', 'CH4N2.npz', 'C5HN3O.npz', 'CH5N5O.npz', 'C8H10N2.npz', 'N4.npz', 'C6H9N3O.npz', 'C5H9NO6.npz', 'C7H3N3O.npz', 'C11H18N2O.npz', 'C8H3NO.npz', 'C3H6N6O.npz', 'C4H9N5O2.npz', 'C5H10N2.npz', 'C12H17NO3.npz', 'CH8N6.npz', 'C11H14O.npz', 'C8H20N2O4.npz', 'C10H12O2.npz', 'C2H10N4.npz', 'C7H10O.npz', 'C2H9N5O3.npz', 'C12H15N3O.npz', 'C9H15N5O.npz', 'C8H20O3.npz', 'C3H8N6O3.npz', 'CH5NO.npz', 'C3HN3O.npz', 'C10H11NO2.npz', 'C6H15NO2.npz', 'C9H7N3O.npz', 'C6H12N6O.npz', 'C4H10N4.npz', 'C9H15N3O2.npz', 'C4H10N8O.npz', 'C9H17N7O3.npz', 'C10H13N3O.npz', 'C6H15N.npz', 'C5H11N5O.npz', 'C4H11N5.npz', 'C7H15NO2.npz', 'C15H30N4.npz', 'C7H12N2O.npz', 'C3H5N3O3.npz', 'C4H5N5O3.npz', 'C9H18N2.npz', 'H3NO4.npz', 'C5H14N2O4.npz', 'C8H14N6O3.npz', 'C3H10N4O.npz', 'C7H17N3.npz', 'C12H18N8O2.npz', 'C4H8N8O.npz', 'C4H8N6O3.npz', 'C3H11N.npz', 'C4H5NO5.npz', 'HNO4.npz', 'C13H18N2O.npz', 'C13H26O2.npz', 'C4H9NO3.npz', 'C7H14N2O4.npz', 'C11H13N5O.npz', 'C3H8N2O.npz', 'C10H15N3O.npz', 'C2H6O2.npz', 'CHN3O3.npz', 'C2H4.npz', 'C2H2N4O3.npz', 'C12H25NO5.npz', 'C10H20N2O.npz', 'C7H4O2.npz', 'C5H8O6.npz', 'C13H15NO.npz', 'C8H14O.npz', 'C9H11N3O3.npz', 'C5H14N6O2.npz', 'C5H2N2O3.npz', 'C5H17N5O.npz', 'C5H9N5O.npz', 'C2H3N7.npz', 'C5H5N3O2.npz', 'C9H21N3.npz', 'C9H13N3O.npz', 'C12H8O.npz', 'C4H6O.npz', 'C9H12N2.npz', 'C5H11N7.npz', 'C3H10N4O4.npz', 'C5H9NO5.npz', 'C18H27N3O2.npz', 'CH6N4O3.npz', 'C12H11NO.npz', 'C9H20O.npz', 'C6H10N6O.npz', 'C9H22N2O.npz', 'C3H5N3O4.npz', 'C8H13N3O6.npz', 'C11H8N2.npz', 'C7H4O.npz', 'C9H5NO.npz', 'C14H16N4O.npz', 'C11H19NO.npz', 'C6H16N2O5.npz', 'CH4O4.npz', 'C5H10O4.npz', 'C7H12N4O2.npz', 'C10H9NO.npz', 'C8H8N2O4.npz', 'C6H9NO.npz', 'C7H10N2O.npz', 'C6H4O2.npz', 'CH2O4.npz', 'C17H27N5O3.npz', 'C12H16N6O3.npz', 'CH6N4O.npz', 'C12H9NO.npz', 'C3H14N8O.npz', 'C8H15NO4.npz', 'C6H6O2.npz', 'C11H18N4O3.npz', 'C14H21NO.npz', 'C3H6N2O3.npz', 'C13H21NO4.npz', 'CH8N4.npz', 'C13H16N2O6.npz', 'C17H19N5O3.npz', 'C6H9N5O2.npz', 'C3H6O5.npz', 'C4H9N3.npz', 'C10H19NO.npz', 'C4H11N3O3.npz', 'C7H22N6O2.npz', 'C5H12N6O.npz', 'C5H10N4O4.npz', 'C10H15N5O5.npz', 'C3H4N2O4.npz', 'C8H6O2.npz', 'C7H9NO3.npz', 'C7H6O.npz', 'C7H14O6.npz', 'C5H12N2.npz', 'H4O4.npz', 'C10H18O2.npz', 'C8H14O4.npz', 'CHN5O2.npz', 'C10H13N5.npz', 'C9H6.npz', 'C10H14N2O3.npz', 'C8H13N7O2.npz', 'C6H13N5.npz', 'CH4N2O2.npz', 'C10H19N3O5.npz', 'C4H9NO5.npz', 'C2HN5.npz', 'C12H17N5O4.npz', 'C12H16O4.npz', 'C3H12N2.npz', 'C16H19N3O5.npz', 'C4H7N7O.npz', 'C6H14N6.npz', 'C6H15N5.npz', 'C9H20N2O.npz', 'C6H15NO3.npz', 'C5H6N4O3.npz', 'C2H2N4.npz', 'C4H12N2O5.npz', 'C6H16N2O.npz', 'C8H12N2.npz', 'C2H6O3.npz', 'C6H8N6.npz', 'C8H9N3.npz', 'C8H6N2.npz', 'C4H14N6O.npz', 'C3H10O.npz', 'C5H18N6.npz', 'C12H22N4O.npz', 'C19H23N3O2.npz', 'C3H4N4.npz', 'C6H13NO3.npz', 'C6H16O.npz', 'C2H3N3O.npz', 'C10H6N2.npz', 'C5H2N2O.npz', 'C8H13N7.npz', 'C3H4.npz', 'C10H19NO4.npz', 'C8H10O2.npz', 'C14H17NO.npz', 'C5HN5O2.npz', 'H6N2O.npz', 'C11H13NO4.npz', 'C3H6O3.npz', 'C8H5N3.npz', 'C7H21N5.npz', 'C9H13N.npz', 'C6H16N4O.npz', 'C5H4N4O3.npz', 'C9H24N2O.npz', 'C3H3N7O2.npz', 'C2H5NO2.npz', 'C7H9N5O.npz', 'C2H7N3O4.npz', 'C12H20N2O2.npz', 'C15H19N3O5.npz', 'C8H17N3O5.npz', 'C2H10N2O.npz', 'C4H11NO3.npz', 'C8H8N6.npz', 'C4H9N3O.npz', 'C9H23NO.npz', 'C9H9N5O2.npz', 'C6H15N7.npz', 'C6H7N3O5.npz', 'C9H9N3.npz', 'C3H9NO2.npz', 'C3H11NO.npz', 'C8H8N4O.npz', 'C11H16N2.npz', 'C5H14N4O.npz', 'C4H9N5.npz', 'C6H12O6.npz', 'C8H15N3O2.npz', 'C9H8N2.npz', 'C3H8N4.npz', 'C9H14N6O.npz', 'C3H9N7O.npz', 'C5H2N2O2.npz', 'C11H24O.npz', 'C10H23N.npz', 'C5H7N5O3.npz', 'C13H17N7O.npz', 'C12H26N4O3.npz', 'C4H10.npz', 'C9H17N.npz', 'C2H8N8.npz', 'C8H12O.npz', 'C5H17N5O2.npz', 'C5H15NO2.npz', 'C4H9N3O4.npz', 'C6H10N4O3.npz', 'C12H19N3.npz', 'C12H17N3.npz', 'C4H6N2O.npz', 'C3H8N2O4.npz', 'C4H12N6.npz', 'C5H5N5.npz', 'C3H4N8.npz', 'C3H6N8O3.npz', 'C7H4N2O.npz', 'C9H8N4.npz', 'C9H16N4O3.npz', 'C12H19NO.npz', 'C6H3NO.npz', 'C4H8O5.npz', 'C4H15N7.npz', 'C4H4N2O4.npz', 'C3H2N4O2.npz', 'C10H17N3O6.npz', 'C14H28O4.npz', 'C12H27N3.npz', 'C9H14N2O.npz', 'C12H27N3O2.npz', 'C12H21N3.npz', 'C10H15NO3.npz', 'C9H5N.npz', 'C11H7N.npz', 'C5H10N2O2.npz', 'C6H14O6.npz', 'C2H9N5O4.npz', 'C7H18N4.npz', 'C9H21NO4.npz', 'CH7N3O3.npz', 'C5H11N3O5.npz', 'C5H6O5.npz', 'C5H11N3O3.npz', 'C6H10N2O4.npz', 'C7H19NO4.npz', 'C5H11N3O2.npz', 'C10H21N3O.npz', 'C8H20O2.npz', 'C13H13NO2.npz', 'C8H10N4O.npz', 'C4H12O.npz', 'C6H9N.npz', 'C8H16.npz', 'C4H3N3O4.npz', 'C11H17N3O2.npz', 'C6H12N2O.npz', 'C6H18N2O4.npz', 'C7H12O6.npz', 'C3H5N7.npz', 'C10H25NO.npz', 'C9H11N3.npz', 'C11H6.npz', 'C4H5N5.npz', 'C7H12N2O4.npz', 'C13H18N4.npz', 'C5H12O.npz', 'C6H17N3O3.npz', 'C11H10O3.npz', 'C3H10O2.npz', 'C6H4N4.npz', 'C9H19NO3.npz', 'C22H26N2O2.npz', 'C6H2O2.npz', 'CH7N5.npz', 'C7H12O3.npz', 'C6H16N2O4.npz', 'C7H14O3.npz', 'C5H9N3O4.npz', 'C2H9N7O3.npz', 'C6H10N2O3.npz', 'C8H19N3O4.npz', 'C7H15N5O3.npz', 'C3H4N6O2.npz', 'C7H11NO5.npz', 'C6H11N3.npz', 'C11H17NO3.npz', 'C13H12O2.npz', 'C9H6N2O2.npz', 'CH7N3.npz', 'C4H8N4.npz', 'C7H15N5O2.npz', 'C7H6N4O3.npz', 'C4H14N6O2.npz', 'C3H12N4O3.npz', 'C3H5N5O2.npz', 'C2H3N3O2.npz', 'C7H21N3O.npz', 'C2H2N2O.npz', 'C4H11N.npz', 'C8H19NO.npz', 'C5H12N6O3.npz', 'C4H13N5O.npz', 'C6H6N4O.npz', 'C2H5N3O2.npz', 'C4H3N.npz', 'C11H15NO.npz', 'C2H2N6O3.npz', 'C11H15NO2.npz', 'C6H10N2O5.npz', 'C12H14N12O.npz', 'C11H23N5O3.npz', 'C6H12O2.npz', 'C7H13N3O4.npz', 'C3HN3O2.npz', 'C2H4N8O.npz', 'C5H9NO3.npz', 'C3HN.npz', 'C7H18N2O3.npz', 'CH4N4O4.npz', 'C9H13NO.npz', 'C7H15N3O.npz', 'C2H4N2O.npz', 'C7H6N2O2.npz', 'C2H6N4O.npz', 'C6H4N4O2.npz', 'C6H13N3O4.npz', 'C9H15N3O6.npz', 'C12H14N2.npz', 'C2H6N2O5.npz', 'C12H13N.npz', 'H5N3O3.npz', 'C6H8N4O2.npz', 'C8H10N2O4.npz', 'C6H5N5.npz', 'C2H8N4.npz', 'C3HNO4.npz', 'C7H13N.npz', 'C4H5N.npz', 'C16H23N5O4.npz', 'C4H13N3.npz', 'C13H15N.npz', 'C3H8O4.npz', 'C4H3NO4.npz', 'C6H12N4O6.npz', 'C8H16N2O4.npz', 'C8H10N2O2.npz', 'C9H20N2O2.npz', 'C14H25N3.npz', 'HNO.npz', 'C3H7NO5.npz', 'C11H11NO3.npz', 'C8H7NO5.npz', 'C4H8N4O.npz', 'C11H8O3.npz', 'C11H18N2O2.npz', 'C7H22N4O.npz', 'C5H4N2O2.npz', 'CH5N3O2.npz', 'C8H6N4O2.npz', 'C3H6N2O5.npz', 'C12H16N2O3.npz', 'C5H3N3O4.npz', 'C2H7NO.npz', 'C5H4N6.npz', 'C5H5NO2.npz', 'H6N2O2.npz', 'C9H15N5.npz', 'C11H10N4.npz', 'C5H8N4.npz', 'C7H16N6O3.npz', 'C12H8.npz', 'C10H11N3.npz', 'C6H13N7O4.npz', 'C2H6N6O4.npz', 'C9H11N3O2.npz', 'C7H15NO.npz', 'C7H13NO2.npz', 'C8H14N2O6.npz', 'C5H16N6O.npz', 'C11H24N4.npz', 'C9H16N2O4.npz', 'CH4N6O2.npz', 'O4.npz', 'C10H9N.npz', 'CH5N.npz', 'C9H6N2O.npz', 'C4H11N7O5.npz', 'H3N.npz', 'C2HNO5.npz', 'C3H6N4.npz', 'C2H4N4.npz', 'C8H17NO4.npz', 'HN3O.npz', 'C6H2O3.npz', 'C10H20N4.npz', 'C4H3N3O.npz', 'C2H7N3O5.npz', 'C9H14O4.npz', 'C5H7NO2.npz', 'C9H19N3O3.npz', 'CH8N2O.npz', 'C4H7N3O4.npz', 'C14H17N3.npz', 'C3H8N2O5.npz', 'C8H18N4.npz', 'C6H13N5O2.npz', 'C3H5N3O.npz', 'C9H16N4O.npz', 'C2H7N7O2.npz', 'C6H9NO2.npz', 'C10H9N5O.npz', 'C10H14N4O.npz', 'C12H16N4.npz', 'C8H10O4.npz', 'C5H13NO.npz', 'C2H6N2O2.npz', 'C8H8N4O2.npz', 'CH5N3O3.npz', 'C10H19N3O.npz', 'C8H14N2O.npz', 'C9H12N6O.npz', 'C6H16N4O3.npz', 'O2.npz', 'C10H6O3.npz', 'C11H15N.npz', 'C8H16N6O2.npz', 'C7H2N4O.npz', 'C13H28N2O.npz', 'C10H22O.npz', 'C13H15N5O5.npz', 'C5H8N4O2.npz', 'C8H6N2O2.npz', 'C3H6O2.npz', 'C9H15NO3.npz', 'C6H11N7.npz', 'C7H3N5.npz', 'C11H17N3O6.npz', 'C8H17N3.npz', 'C7H15N3O5.npz', 'C4H9N3O3.npz', 'C7H2N2O3.npz', 'C7H10N4O2.npz', 'C14H23N3.npz', 'C11H25NO2.npz', 'C15H27N7O2.npz', 'C11H13NO3.npz', 'C2H3N5.npz', 'C4H14N6.npz', 'C7H8N2O4.npz', 'C2H9N9O.npz', 'C9H12N2O3.npz', 'C11H17N5O4.npz', 'C5H12N4O3.npz', 'C6H18N2O3.npz', 'C10H12N6.npz', 'C9H4O3.npz', 'C12H26O3.npz', 'C7H11N3O4.npz', 'CN4O3.npz', 'C8H16N6.npz', 'C11H6O.npz', 'C12H13NO2.npz', 'C7H9N5O2.npz', 'C5H3NO4.npz', 'C4H13N3O3.npz', 'C6H15N7O3.npz', 'C6H6N2O4.npz', 'C6H11N5O.npz', 'C12H24.npz', 'C6H7N3.npz', 'C8H21N.npz', 'C6H9N5.npz', 'C8H5N3O3.npz', 'C4H8N6O.npz', 'C9H5N3.npz', 'C3H6N4O4.npz', 'CH8N4O3.npz', 'C5H13NO6.npz', 'CH6N2O.npz', 'H3NO.npz', 'CH6N2O3.npz', 'C7H14N4O2.npz', 'C3H7NO3.npz', 'C8H7N3O3.npz', 'C8H19N.npz', 'C8H23N3O.npz', 'C19H25N5.npz', 'C6H8N6O2.npz', 'C9H17N3O4.npz', 'C4H7NO.npz', 'C11H21NO2.npz', 'C2HN5O2.npz', 'C4H10N6.npz', 'C18H20N2O4.npz', 'C7H15N5O.npz', 'C4H9NO2.npz', 'C3H6N2O2.npz', 'C3H8N6O.npz', 'C11H12N4.npz', 'C8H14.npz', 'C9H17NO3.npz', 'C4H15N7O.npz', 'C9H17NO.npz', 'C22H27NO2.npz', 'CH4N4O.npz', 'C17H22N6O.npz', 'C8H16N6O.npz', 'C5H10N4O.npz', 'C8H14N2O5.npz', 'C5H9N3.npz', 'C4H7N5.npz', 'C4H8O3.npz', 'C9H8N4O2.npz', 'C9H11NO3.npz', 'C8H22N4.npz', 'C6H17NO.npz', 'C3H3N5O4.npz', 'C9H18N2O4.npz', 'C2H3NO.npz', 'C7H11N3O2.npz', 'C6H4O3.npz', 'C6H18N2O2.npz', 'C3H6N4O3.npz', 'C6H14O2.npz', 'C10H18O3.npz', 'C6H12N4O.npz', 'H5NO2.npz', 'C8H12N6O.npz', 'C5H7N5.npz', 'C3H3N5O.npz', 'C7H14N4O3.npz', 'C4H6O6.npz', 'C6H14N6O2.npz', 'C13H20N2.npz', 'C5H14O2.npz', 'C6H6N2O3.npz', 'C12H16.npz', 'C6H12N4.npz', 'C12H25N3O3.npz', 'C12H27NO8.npz', 'C7H9NO4.npz', 'C3H10N6O3.npz', 'C14H17N3O7.npz', 'C6H8O5.npz', 'C7H12N2O6.npz', 'C3H3NO3.npz', 'C9H8N2O2.npz', 'H4O5.npz', 'C13H22N2O4.npz', 'C5H3N5O.npz', 'C10H12N4O2.npz', 'C5H2N6O.npz', 'C6H12N2O6.npz', 'C5H2N6.npz', 'C7HN.npz', 'C12H10O2.npz', 'H12O6.npz', 'C13H14O.npz', 'C15H21N5O4.npz', 'C12H24O3.npz', 'C7H21N3O2.npz', 'C11H16N2O3.npz', 'C5H3N.npz', 'C5H2N4O.npz', 'C5H5NO.npz', 'C6H8.npz', 'C6H12O5.npz', 'C5H5NO6.npz', 'C8H15N3O5.npz', 'C4H6.npz', 'C14H27N3O.npz', 'HNO2.npz', 'C4H10N2O5.npz', 'C7H19N3O3.npz', 'C10H25N3.npz', 'C8H18O3.npz', 'C8H12N6.npz', 'C8H9N.npz', 'C8H16O.npz', 'C8H11NO2.npz', 'C6H8N6O.npz', 'C4H11N3O2.npz', 'C11H15NO4.npz', 'C2H9N3.npz', 'H10O5.npz', 'C5H13NO4.npz', 'C5H13N3O5.npz', 'C6H14N2O4.npz', 'C8H18N4O.npz', 'C10H14N2O.npz', 'C5H10O2.npz', 'C3H10N4O3.npz', 'C6H5NO5.npz', 'C9H15N5O2.npz', 'C7H10.npz', 'C4H4N6O2.npz', 'C11H25N.npz', 'C11H22N6O4.npz', 'C9H13N3.npz', 'C10H7N3.npz', 'C6H12O4.npz', 'C9H11N3O4.npz', 'C12H17N5.npz', 'C14H17N3O4.npz', 'H2O5.npz', 'C9H12O6.npz', 'H4O3.npz', 'C15H19NO8.npz', 'C8H12O2.npz', 'C3H3NO2.npz', 'C5H8N6.npz', 'C12H12N2O.npz', 'CH6N2O5.npz', 'C11H17NO.npz', 'C4H14N2.npz', 'C7H2N2O2.npz', 'C4H4O4.npz', 'C3H7NO.npz', 'C4H5N3O5.npz', 'C8H8O2.npz', 'C10H26N6.npz', 'C8H6.npz', 'C6H6N4O3.npz', 'C5H7N3O3.npz', 'C22H29N3O.npz', 'C12H18N4.npz', 'C7H11N7O.npz', 'C14H18N2O3.npz', 'C11H16N2O.npz', 'C8H12N4O3.npz', 'C11H13NO.npz', 'C8H7N.npz', 'C5H4N2O5.npz', 'C13H13N3.npz', 'C4H4N2O2.npz', 'C10H18N6O3.npz', 'C10H17N3.npz', 'C6H14N8O3.npz', 'C2H8O3.npz', 'C9H16N2O2.npz', 'C4H12N4O3.npz', 'C12H13N3.npz', 'C5H9N5O3.npz', 'C12H12O2.npz', 'C7H15N.npz', 'C8H18N6.npz', 'C10H12N2.npz', 'CH3NO2.npz', 'C3H12N6O.npz', 'C7H13NO4.npz', 'C9H24N4.npz', 'C2H7N5.npz', 'C10H16N2.npz', 'C9H5NO2.npz', 'C7H16N6O2.npz', 'C14H18N2.npz', 'C3H3N3O3.npz', 'C10H11N3O.npz', 'CH3NO.npz', 'C4H2O3.npz', 'C10H8.npz', 'C5H10N2O4.npz', 'C5H13N3O4.npz', 'C9H13NO3.npz', 'C4H12N2.npz', 'C11H22O3.npz', 'C5H12N4O2.npz', 'C6H3NO2.npz', 'C7H8N4O3.npz', 'C6H2.npz', 'C8H11N7O.npz', 'C9H12N2O4.npz', 'C10H25N.npz', 'C6H8O2.npz', 'C19H20N4O2.npz', 'C7H8O6.npz', 'C2H4O.npz', 'C10H9N5.npz', 'C5H8N6O.npz', 'C13H21NO3.npz', 'C6H9NO5.npz', 'C6H15N3O4.npz', 'C4H15N3O.npz', 'C3H13N7.npz', 'C6H14O4.npz', 'C7H10N2O5.npz', 'C4H3NO.npz', 'C14H10.npz', 'C12H19N3O.npz', 'C7H3NO3.npz', 'C18H14N2O4.npz', 'C7H14O4.npz', 'C11H23NO.npz', 'C10H14N4O2.npz', 'C4H6N4O4.npz', 'C6H6O3.npz', 'C8H6O.npz', 'C8H17NO2.npz', 'C4H9N5O3.npz', 'C8H7N3O2.npz', 'C12H18.npz', 'H7N3.npz', 'C8H12.npz', 'C3H6O.npz', 'C14H24N2O.npz', 'C3H7N3O6.npz', 'C8H7N5.npz', 'C2H10N6O3.npz', 'C10H16O2.npz', 'C8H5NO3.npz', 'C5H7NO3.npz', 'C14H20N2O.npz', 'C4H10N2O2.npz', 'C8H5NO.npz', 'C2H3N3O3.npz', 'C6H19N5O.npz', 'C11H16.npz', 'C12H24N2.npz', 'C5H16N4O2.npz', 'C8H17NO5.npz', 'C6H5NO.npz', 'C2H3N7O.npz', 'C3H2N2O3.npz', 'C8H8N2O2.npz', 'C8H4N2O2.npz', 'C11H14N2O4.npz', 'C3H2N2.npz', 'C8H13N3O.npz', 'C8H15NO2.npz', 'C7H17NO6.npz', 'C8H4O2.npz', 'C10H19N5O5.npz', 'C12H8N2O.npz', 'C2H6.npz', 'C10H24N2.npz', 'C2H9N.npz', 'H3N3O.npz', 'C8H14O2.npz', 'C3H13N3O3.npz', 'CH4O3.npz', 'C11H20N2O3.npz', 'C10H24N2O4.npz', 'C2H7NO4.npz', 'C4H6N4O2.npz', 'C8H22N4O3.npz', 'C7H12N6O2.npz', 'C7H19NO2.npz', 'C6H16N4O2.npz', 'C3H13N3O2.npz', 'C6H6N4.npz', 'C4H6N6.npz', 'C9H12N6.npz', 'C7H5N3O.npz', 'C6H14O3.npz', 'C2H5N5O5.npz', 'C7H4O3.npz', 'C7H18N6.npz', 'H2O2.npz', 'C10H6N4.npz', 'C9H4N2.npz', 'C11H21N5O5.npz', 'C9H15N3O4.npz', 'C18H20N2O5.npz', 'C9H20N2O4.npz', 'C5H8N4O.npz', 'C6H18N4O3.npz', 'C6H14O5.npz', 'C2H6N2O4.npz', 'C11H10N2O2.npz', 'C9H5N3O.npz', 'C8H9NO4.npz', 'C12H19NO2.npz', 'C4HNO2.npz', 'C10H25N3O.npz', 'C13H19N3O.npz', 'C4H7NO4.npz', 'C11H14N4O2.npz', 'C4H11NO4.npz', 'C10H8N2O.npz', 'C5H7N.npz', 'C5H11NO3.npz', 'C2H3NO4.npz', 'C14H23NO2.npz', 'C3H5N5O3.npz', 'C7H17NO2.npz', 'C9H12N2O2.npz', 'C11H16O2.npz', 'C9H14N4O3.npz', 'C12H16O2.npz', 'C8H17N5.npz', 'C5H9NO4.npz', 'C6H2N6.npz', 'C9H19N5O3.npz', 'C8H19N3O5.npz', 'C10H21NO.npz', 'C3H3N5O2.npz', 'C7H11N5O.npz', 'C10H8N4.npz', 'C5H10N4.npz', 'C14H20.npz', 'C15H28N2O8.npz', 'C8H8O6.npz', 'C13H17N3O4.npz', 'C9H16O5.npz', 'C7H11NO.npz', 'C9H14O3.npz', 'C11H20N4.npz', 'C10H11N3O2.npz', 'C6H14.npz', 'C14H24N6O3.npz', 'C7H10N2.npz', 'C12H15N3.npz', 'C7H20N4.npz', 'C3H8N4O3.npz', 'C17H30N2.npz', 'C5H7N3.npz', 'C11H17N9O2.npz', 'C10H18N2.npz', 'C7H18N2O4.npz', 'C8H13NO3.npz', 'C6H5N5O3.npz', 'C6H9NO3.npz', 'C8H2N2.npz', 'C6H19N5O2.npz', 'C12H13NO3.npz', 'C6N4.npz', 'C7H18O2.npz', 'C3H11NO4.npz', 'C2H4N2O3.npz', 'C2H7N7.npz', 'C2H4O3.npz', 'C10H17N5O.npz', 'C4H4N6O.npz', 'C4H2N4O4.npz', 'C9H8.npz', 'C7H5N.npz', 'C6H8O6.npz', 'C3H7N.npz', 'C7H4N2O2.npz', 'C10H11N.npz', 'C5H2N4O3.npz', 'C7H13NO3.npz', 'C13H28N2.npz', 'C7H9NO.npz', 'C7H12N4O.npz', 'C5H13NO2.npz', 'C11H13N.npz', 'CH5N3O.npz', 'C7H3N3.npz', 'C14H23N3O4.npz', 'C6H13NO7.npz', 'C12H21N7O3.npz', 'C6H14N4O3.npz', 'C6H7NO.npz', 'C11H10N2.npz', 'C6H16N6O2.npz', 'C2H8N2O3.npz', 'C9H17NO4.npz', 'C6H11N7O.npz', 'C4H5NO.npz', 'C7H4N4.npz', 'C4H11N3O5.npz', 'C11H9N.npz', 'C12H28N4.npz', 'C8H18N2.npz', 'C8H15NO3.npz', 'C8H14N2O2.npz', 'C9H4.npz', 'C12H20N4O3.npz', 'C12H16N4O.npz', 'C9H6N4O.npz', 'C7H14N2O3.npz', 'C8H24N4.npz', 'C13H20O.npz', 'C4H8N4O4.npz', 'C8H13N5O.npz', 'C5H6N2O3.npz', 'C5H6N6.npz', 'C9H23NO2.npz', 'C12H10.npz', 'C10H17N5.npz', 'C3H4N2O.npz', 'C7H14N4.npz', 'C16H20N4O4.npz', 'C9H7NO.npz', 'C11H24N4O.npz', 'C12H12N2O2.npz', 'C10H13NO4.npz', 'ani1x-release.h5', 'C12H13N3O.npz', 'C6H2N2.npz', 'C3H13N3O.npz', 'C15H20N2O4.npz', 'C2H8O4.npz', 'C10H19NO3.npz', 'C13H17N3.npz', 'C13H13NO3.npz', 'C8H12N2O4.npz', 'C7H7N.npz']\n",
      "Files in /ssd/Code/gad-ff/Data/Transition1x/data:\n",
      "['t1x_splits.tar.gz', 'transition1x.h5']\n"
     ]
    }
   ],
   "source": [
    "# make sure we find directories in the root directory\n",
    "# import sys\n",
    "# sys.path.append('../..')\n",
    "\n",
    "try:\n",
    "    # wasn't pip installed, just sitting in the same directory\n",
    "    from Data.Transition1x.transition1x import Dataloader as t1xloader\n",
    "except:\n",
    "    # pip installed\n",
    "    from transition1x import Dataloader as t1xloader\n",
    "    \n",
    "try:\n",
    "    # wasn't pip installed, just sitting in the same directory\n",
    "    import Data.ANI1x.dataloader as ani1xloader\n",
    "except:\n",
    "    # pip installed\n",
    "    import ani1x.dataloader as ani1xloader\n",
    "    \n",
    "from ase import Atoms, units\n",
    "import numpy as np\n",
    "import os\n",
    "import shutil\n",
    "import json\n",
    "from tqdm import tqdm\n",
    "\n",
    "N_tot, A_max = 9644740, 23\n",
    "\n",
    "\n",
    "DIR_ROOT = '/ssd/Code/gad-ff'\n",
    "\n",
    "# there should by a file {DIR_ANI1x}/data/ani1x-release.h5\n",
    "DIR_ANI1x = f'{DIR_ROOT}/Data/ANI1x'\n",
    "# there should by a file {DIR_T1x}/data/transition1x.h5\n",
    "DIR_T1x = f'{DIR_ROOT}/Data/Transition1x'\n",
    "\n",
    "print(f\"Files in {DIR_ANI1x}/data:\")\n",
    "print(os.listdir(f'{DIR_ANI1x}/data'))\n",
    "print(f\"Files in {DIR_T1x}/data:\")\n",
    "print(os.listdir(f'{DIR_T1x}/data'))"
   ]
  },
  {
   "cell_type": "code",
   "execution_count": 2,
   "metadata": {},
   "outputs": [
    {
     "name": "stdout",
     "output_type": "stream",
     "text": [
      "\n",
      "# Processing Transition1x reactions\n"
     ]
    },
    {
     "name": "stderr",
     "output_type": "stream",
     "text": [
      "Processing Transition1x: 9644740it [05:30, 29159.57it/s]"
     ]
    },
    {
     "name": "stdout",
     "output_type": "stream",
     "text": [
      "done!\n"
     ]
    },
    {
     "name": "stderr",
     "output_type": "stream",
     "text": [
      "\n"
     ]
    }
   ],
   "source": [
    "print('\\n# Processing Transition1x reactions')\n",
    "dataloader = t1xloader(f'{DIR_T1x}/data/transition1x.h5')\n",
    "\n",
    "current_rxn = None\n",
    "RXN, R, Z, E_abs, E, F = [], [], [], [], [], []\n",
    "\n",
    "os.makedirs(f'{DIR_T1x}/reaction_data', exist_ok=True)\n",
    "\n",
    "for molecule in tqdm(dataloader, desc='Processing Transition1x'):\n",
    "    last_rxn = current_rxn\n",
    "    current_rxn = molecule['rxn']\n",
    "    if current_rxn != last_rxn:\n",
    "        np.savez_compressed(f'{DIR_T1x}/reaction_data/{last_rxn}.npz',\n",
    "            R=np.array(R),\n",
    "            Z=np.array(Z),\n",
    "            E=np.array(E).reshape((-1, 1)) * units.eV / (units.kcal/units.mol),\n",
    "            F=np.array(F) * units.eV / (units.kcal/units.mol))\n",
    "        RXN, R, Z, E_abs, E, F = [], [], [], [], [], []\n",
    "    RXN.append(current_rxn)\n",
    "    R.append(molecule['positions'])\n",
    "    Z.append(molecule['atomic_numbers'])\n",
    "    E_abs.append(molecule['wB97x_6-31G(d).energy'])\n",
    "    E.append(molecule['wB97x_6-31G(d).atomization_energy'])\n",
    "    F.append(molecule['wB97x_6-31G(d).forces'])\n",
    "\n",
    "np.savez_compressed(f'{DIR_T1x}/reaction_data/{current_rxn}.npz',\n",
    "    R=np.array(R),\n",
    "    Z=np.array(Z),\n",
    "    E=np.array(E).reshape((-1, 1)) * units.eV / (units.kcal/units.mol),\n",
    "    F=np.array(F) * units.eV / (units.kcal/units.mol))\n",
    "print('done!')"
   ]
  },
  {
   "cell_type": "code",
   "execution_count": 5,
   "metadata": {},
   "outputs": [
    {
     "name": "stderr",
     "output_type": "stream",
     "text": [
      " 20%|█▉        | 1999/10074 [00:00<00:03, 2264.07it/s]"
     ]
    },
    {
     "name": "stdout",
     "output_type": "stream",
     "text": [
      "Shape of None.npz is faulty: (0,)\n"
     ]
    },
    {
     "name": "stderr",
     "output_type": "stream",
     "text": [
      "100%|██████████| 10074/10074 [00:04<00:00, 2372.18it/s]"
     ]
    },
    {
     "name": "stdout",
     "output_type": "stream",
     "text": [
      "Total number of samples: 9644740\n",
      "Maximum number of atoms: 23\n"
     ]
    },
    {
     "name": "stderr",
     "output_type": "stream",
     "text": [
      "\n"
     ]
    }
   ],
   "source": [
    "N_tot, A_max = 0, 0\n",
    "i = 0\n",
    "for file in tqdm(os.listdir(f'{DIR_T1x}/reaction_data')):\n",
    "    if file.endswith('.npz'):\n",
    "        data = np.load(f'{DIR_T1x}/reaction_data/{file}')\n",
    "    else:\n",
    "        continue\n",
    "    if len(data['Z'].shape) < 2:\n",
    "        print(f\"Shape of {file} is faulty: {data['Z'].shape}\")\n",
    "        continue\n",
    "    N_tot += data['Z'].shape[0]\n",
    "    A_max = max(A_max, data['Z'].shape[1])\n",
    "    i += 1\n",
    "print('Total number of samples:', N_tot)\n",
    "print('Maximum number of atoms:', A_max)"
   ]
  },
  {
   "cell_type": "code",
   "execution_count": 6,
   "metadata": {},
   "outputs": [
    {
     "name": "stdout",
     "output_type": "stream",
     "text": [
      "\n",
      "# Processing Transition1x compositions\n"
     ]
    },
    {
     "name": "stderr",
     "output_type": "stream",
     "text": [
      "9644740it [06:03, 26518.99it/s]"
     ]
    },
    {
     "name": "stdout",
     "output_type": "stream",
     "text": [
      "done!\n"
     ]
    },
    {
     "name": "stderr",
     "output_type": "stream",
     "text": [
      "\n"
     ]
    }
   ],
   "source": [
    "print('\\n# Processing Transition1x compositions')\n",
    "\n",
    "dataloader = t1xloader(f'{DIR_T1x}/data/transition1x.h5')\n",
    "\n",
    "current_formula = None\n",
    "RXN, R, Z, E_abs, E, F = [], [], [], [], [], []\n",
    "\n",
    "os.makedirs(f'{DIR_T1x}/composition_data', exist_ok=True)\n",
    "\n",
    "for molecule in tqdm(dataloader):\n",
    "    last_formula = current_formula\n",
    "    current_formula = molecule['formula']\n",
    "    if current_formula != last_formula:\n",
    "        np.savez_compressed(f'{DIR_T1x}/composition_data/{last_formula}.npz', \n",
    "            R=np.array(R),\n",
    "            Z=np.array(Z),\n",
    "            E=np.array(E).reshape((-1, 1)) * units.eV / (units.kcal/units.mol), \n",
    "            F=np.array(F) * units.eV / (units.kcal/units.mol)\n",
    "        )\n",
    "        RXN, R, Z, E_abs, E, F = [], [], [], [], [], []\n",
    "    \n",
    "    R.append(molecule['positions'])\n",
    "    Z.append(molecule['atomic_numbers'])\n",
    "    E.append(molecule['wB97x_6-31G(d).atomization_energy'])\n",
    "    F.append(molecule['wB97x_6-31G(d).forces'])\n",
    "\n",
    "np.savez_compressed(f'{DIR_T1x}/composition_data/{current_formula}.npz', \n",
    "    R=np.array(R),\n",
    "    Z=np.array(Z),\n",
    "    E=np.array(E).reshape((-1, 1)) * units.eV / (units.kcal/units.mol), \n",
    "    F=np.array(F) * units.eV / (units.kcal/units.mol)\n",
    ")\n",
    "print('done!')"
   ]
  },
  {
   "cell_type": "code",
   "execution_count": 8,
   "metadata": {},
   "outputs": [
    {
     "name": "stderr",
     "output_type": "stream",
     "text": [
      " 37%|███▋      | 64/172 [00:00<00:00, 178.42it/s]"
     ]
    },
    {
     "name": "stdout",
     "output_type": "stream",
     "text": [
      "Shape of None.npz is faulty: (0,)\n"
     ]
    },
    {
     "name": "stderr",
     "output_type": "stream",
     "text": [
      "100%|██████████| 172/172 [00:01<00:00, 171.70it/s]"
     ]
    },
    {
     "name": "stdout",
     "output_type": "stream",
     "text": [
      "Total number of samples: 9644740\n",
      "Maximum number of atoms: 23\n"
     ]
    },
    {
     "name": "stderr",
     "output_type": "stream",
     "text": [
      "\n"
     ]
    }
   ],
   "source": [
    "N_tot, A_max = 0, 0\n",
    "i = 0\n",
    "for file in tqdm(os.listdir(f'{DIR_T1x}/composition_data')):\n",
    "    if file.endswith('.npz'):\n",
    "        data = np.load(f'{DIR_T1x}/composition_data/{file}')\n",
    "    else:\n",
    "        continue\n",
    "    if len(data['Z'].shape) < 2:\n",
    "        print(f\"Shape of {file} is faulty: {data['Z'].shape}\")\n",
    "        continue\n",
    "    N_tot += data['Z'].shape[0]\n",
    "    A_max = max(A_max, data['Z'].shape[1])\n",
    "    i += 1\n",
    "print('Total number of samples:', N_tot)\n",
    "print('Maximum number of atoms:', A_max)"
   ]
  },
  {
   "cell_type": "code",
   "execution_count": 9,
   "metadata": {},
   "outputs": [
    {
     "name": "stdout",
     "output_type": "stream",
     "text": [
      "\n",
      "# Processing ANI1x\n"
     ]
    },
    {
     "name": "stderr",
     "output_type": "stream",
     "text": [
      "3114it [01:03, 49.11it/s] "
     ]
    },
    {
     "name": "stdout",
     "output_type": "stream",
     "text": [
      "done!\n"
     ]
    },
    {
     "name": "stderr",
     "output_type": "stream",
     "text": [
      "\n"
     ]
    }
   ],
   "source": [
    "print('\\n# Processing ANI1x')\n",
    "\n",
    "self_energy = {'H':-0.500607632585, 'C':-37.8302333826, 'N':-54.5680045287, 'O':-75.0362229210}\n",
    "\n",
    "for molecule in tqdm(ani1xloader.iter_data_buckets(f'{DIR_ANI1x}/data/ani1x-release.h5', keys=['wb97x_dz.energy','wb97x_dz.forces'])):\n",
    "    formula = Atoms(numbers=molecule['atomic_numbers']).symbols\n",
    "    np.savez_compressed(f'{DIR_ANI1x}/data/{formula}.npz',\n",
    "        R=np.array(molecule['coordinates']),\n",
    "        Z=np.tile(molecule['atomic_numbers'], (molecule['coordinates'].shape[0], 1)),\n",
    "        E=(np.array(molecule['wb97x_dz.energy']).reshape((-1, 1)) - sum([self_energy[atom]*len(formula.search(atom)) for atom in ('H', 'C', 'N', 'O')]))  * units.Ha / (units.kcal/units.mol),\n",
    "        F=np.array(molecule['wb97x_dz.forces']) * units.Ha / (units.kcal/units.mol))\n",
    "print('done!')"
   ]
  },
  {
   "cell_type": "code",
   "execution_count": 3,
   "metadata": {},
   "outputs": [
    {
     "name": "stderr",
     "output_type": "stream",
     "text": [
      "100%|██████████| 3115/3115 [00:01<00:00, 1749.13it/s]"
     ]
    },
    {
     "name": "stdout",
     "output_type": "stream",
     "text": [
      "Total number of samples: 4956005\n",
      "Maximum number of atoms: 63\n"
     ]
    },
    {
     "name": "stderr",
     "output_type": "stream",
     "text": [
      "\n"
     ]
    }
   ],
   "source": [
    "print('\\n# Counting ANI1x')\n",
    "\n",
    "def count_ani1x():\n",
    "    N_tot, A_max = 0, 0\n",
    "    for file in tqdm(os.listdir(f'{DIR_ANI1x}/data')):\n",
    "        if file.endswith('.npz'):\n",
    "            data = np.load(f'{DIR_ANI1x}/data/{file}')\n",
    "        else:\n",
    "            continue\n",
    "        if len(data['Z'].shape) < 2:\n",
    "            print(f\"Shape of {file} is faulty: {data['Z'].shape}\")\n",
    "            continue\n",
    "        N_tot += data['Z'].shape[0]\n",
    "        A_max = max(A_max, data['Z'].shape[1])\n",
    "    return N_tot, A_max\n",
    "    \n",
    "N_tot, A_max = count_ani1x()\n",
    "print('Total number of samples:', N_tot)\n",
    "print('Maximum number of atoms:', A_max)"
   ]
  },
  {
   "cell_type": "code",
   "execution_count": 11,
   "metadata": {},
   "outputs": [
    {
     "name": "stdout",
     "output_type": "stream",
     "text": [
      "\n",
      "# Processing ANI1x augmented data\n"
     ]
    },
    {
     "name": "stderr",
     "output_type": "stream",
     "text": [
      "100%|██████████| 3115/3115 [02:00<00:00, 25.84it/s]"
     ]
    },
    {
     "name": "stdout",
     "output_type": "stream",
     "text": [
      "N_tot: 4381534\n",
      "count: {'CH': np.int64(3678546), 'NH': np.int64(1551318), 'OH': np.int64(496688), 'CC': np.int64(64367), 'CN': np.int64(69415), 'CO': np.int64(612294), 'NN': np.int64(2378), 'NO': np.int64(44343), 'OO': np.int64(20663)}\n"
     ]
    },
    {
     "name": "stderr",
     "output_type": "stream",
     "text": [
      "\n"
     ]
    }
   ],
   "source": [
    "print('\\n# Processing ANI1x augmented data')\n",
    "\n",
    "count = {'CH': 0, 'NH': 0, 'OH': 0, 'CC': 0, 'CN': 0, 'CO': 0, 'NN': 0, 'NO': 0, 'OO': 0}\n",
    "\n",
    "N_tot = 0\n",
    "if not os.path.exists(f'{DIR_ANI1x}/aug_data'):\n",
    "    os.makedirs(f'{DIR_ANI1x}/aug_data')\n",
    "for file in tqdm(os.listdir(f'{DIR_ANI1x}/data')):\n",
    "    if file.endswith('.npz'):\n",
    "        data = np.load(f'{DIR_ANI1x}/data/{file}')\n",
    "    else:\n",
    "        continue\n",
    "\n",
    "    dist_matrix = np.linalg.norm(data['R'][:, :, None, :] - data['R'][:, None, :, :], axis=-1)\n",
    "    dist_matrix[:, range(data['R'].shape[1]), range(data['R'].shape[1])] = np.nan\n",
    "\n",
    "    compressed_CH = (dist_matrix < 1.095) & (data['Z'][:, :, None] == 1) & (data['Z'][:, None, :] == 6)\n",
    "    compressed_NH = (dist_matrix < 1.018) & (data['Z'][:, :, None] == 1) & (data['Z'][:, None, :] == 7)\n",
    "    compressed_OH = (dist_matrix < 0.961) & (data['Z'][:, :, None] == 1) & (data['Z'][:, None, :] == 8)\n",
    "    compressed_CC = (dist_matrix < 1.202) & (data['Z'][:, :, None] == 6) & (data['Z'][:, None, :] == 6)\n",
    "    compressed_CN = (dist_matrix < 1.156) & (data['Z'][:, :, None] == 6) & (data['Z'][:, None, :] == 7)\n",
    "    compressed_CO = (dist_matrix < 1.204) & (data['Z'][:, :, None] == 6) & (data['Z'][:, None, :] == 8)\n",
    "    compressed_NN = (dist_matrix < 1.099) & (data['Z'][:, :, None] == 7) & (data['Z'][:, None, :] == 7)\n",
    "    compressed_NO = (dist_matrix < 1.219) & (data['Z'][:, :, None] == 7) & (data['Z'][:, None, :] == 8)\n",
    "    compressed_OO = (dist_matrix < 1.469) & (data['Z'][:, :, None] == 8) & (data['Z'][:, None, :] == 8)\n",
    "    compressed = compressed_CH | compressed_NH | compressed_OH | compressed_CC | compressed_CN | compressed_CO | compressed_NN | compressed_NO | compressed_OO\n",
    "    \n",
    "    if np.any(compressed):\n",
    "        count['CH'] += np.count_nonzero(np.any(compressed_CH, axis=(1, 2)))\n",
    "        count['NH'] += np.count_nonzero(np.any(compressed_NH, axis=(1, 2)))\n",
    "        count['OH'] += np.count_nonzero(np.any(compressed_OH, axis=(1, 2)))\n",
    "        count['CC'] += np.count_nonzero(np.any(compressed_CC, axis=(1, 2)))\n",
    "        count['CN'] += np.count_nonzero(np.any(compressed_CN, axis=(1, 2)))\n",
    "        count['CO'] += np.count_nonzero(np.any(compressed_CO, axis=(1, 2)))\n",
    "        count['NN'] += np.count_nonzero(np.any(compressed_NN, axis=(1, 2)))\n",
    "        count['NO'] += np.count_nonzero(np.any(compressed_NO, axis=(1, 2)))\n",
    "        count['OO'] += np.count_nonzero(np.any(compressed_OO, axis=(1, 2)))\n",
    "\n",
    "        np.savez_compressed(f'{DIR_ANI1x}/aug_data/{file}', \n",
    "            R=data['R'][np.any(compressed, axis=(1, 2))],\n",
    "            Z=data['Z'][np.any(compressed, axis=(1, 2))],\n",
    "            E=data['E'][np.any(compressed, axis=(1, 2))],\n",
    "            F=data['F'][np.any(compressed, axis=(1, 2))])\n",
    "        N_tot += np.count_nonzero(np.any(compressed, axis=(1, 2)))\n",
    "        \n",
    "print(\"N_tot:\", N_tot)\n",
    "print(\"count:\", count)"
   ]
  },
  {
   "cell_type": "code",
   "execution_count": 13,
   "metadata": {},
   "outputs": [
    {
     "name": "stdout",
     "output_type": "stream",
     "text": [
      "\n",
      "# Combining Transition1x and ANI1x augmented data\n"
     ]
    },
    {
     "name": "stderr",
     "output_type": "stream",
     "text": [
      "100%|██████████| 3114/3114 [05:16<00:00,  9.83it/s]"
     ]
    },
    {
     "name": "stdout",
     "output_type": "stream",
     "text": [
      "done!\n"
     ]
    },
    {
     "name": "stderr",
     "output_type": "stream",
     "text": [
      "\n"
     ]
    }
   ],
   "source": [
    "print('\\n# Combining Transition1x and ANI1x augmented data')\n",
    "\n",
    "os.makedirs(f'{DIR_T1x}/augmented_data', exist_ok=True)\n",
    "\n",
    "for file in tqdm(set(os.listdir(f'{DIR_T1x}/composition_data') + os.listdir(f'{DIR_ANI1x}/aug_data'))):\n",
    "    if file.endswith('.npz'):\n",
    "        pass\n",
    "    else:\n",
    "        continue\n",
    "    \n",
    "    match (file in os.listdir(f'{DIR_T1x}/composition_data')), (file in os.listdir(f'{DIR_ANI1x}/aug_data')):\n",
    "        case (True, True):\n",
    "            data1 = np.load(f'{DIR_T1x}/composition_data/{file}')\n",
    "            data2 = np.load(f'{DIR_ANI1x}/data/{file}')\n",
    "            np.savez_compressed(f'{DIR_T1x}/augmented_data/{file}',\n",
    "                R=np.concatenate((data1['R'], data2['R'])),\n",
    "                Z=np.concatenate((data1['Z'], data2['Z'])),\n",
    "                E=np.concatenate((data1['E'], data2['E'])),\n",
    "                F=np.concatenate((data1['F'], data2['F']))\n",
    "            )\n",
    "        case (True, False):\n",
    "            data1 = np.load(f'{DIR_T1x}/composition_data/{file}')\n",
    "            shutil.copyfile(f'{DIR_T1x}/composition_data/{file}', f'{DIR_T1x}/augmented_data/{file}')\n",
    "        case (False, True):\n",
    "            data2 = np.load(f'{DIR_ANI1x}/aug_data/{file}')\n",
    "            shutil.copyfile(f'{DIR_ANI1x}/aug_data/{file}', f'{DIR_T1x}/augmented_data/{file}')\n",
    "print('done!')"
   ]
  },
  {
   "cell_type": "code",
   "execution_count": 4,
   "metadata": {},
   "outputs": [
    {
     "name": "stdout",
     "output_type": "stream",
     "text": [
      "\n",
      "# Creating train, test, val splits\n"
     ]
    },
    {
     "name": "stderr",
     "output_type": "stream",
     "text": [
      " 19%|█▉        | 603/3114 [00:18<00:51, 48.47it/s] "
     ]
    },
    {
     "name": "stdout",
     "output_type": "stream",
     "text": [
      "Shape of None.npz is faulty: (0,)\n"
     ]
    },
    {
     "name": "stderr",
     "output_type": "stream",
     "text": [
      " 66%|██████▌   | 2056/3114 [01:18<02:50,  6.20it/s] "
     ]
    },
    {
     "ename": "",
     "evalue": "",
     "output_type": "error",
     "traceback": [
      "\u001b[1;31mThe Kernel crashed while executing code in the current cell or a previous cell. \n",
      "\u001b[1;31mPlease review the code in the cell(s) to identify a possible cause of the failure. \n",
      "\u001b[1;31mClick <a href='https://aka.ms/vscodeJupyterKernelCrash'>here</a> for more info. \n",
      "\u001b[1;31mView Jupyter <a href='command:jupyter.viewOutput'>log</a> for further details."
     ]
    }
   ],
   "source": [
    "print('\\n# Creating train, test, val splits')\n",
    "\n",
    "set_test = [\"C2H4N4O\", \"C3H7NO2\", \"C4H5NO\", \"C3H7N3\", \"C2H4N2\", \"C4H10O\", \"C5H7NO\", \"C5H11N\", \"C3H4N2O\", \"C4H2\", \"C2H5N3O\", \"C5H9N\", \"C3H5NO\", \"C6H14O\", \"C3H8O2\", \"C2H4O2\", \"C7H12\"]\n",
    "set_val = [[\"C5H8O\", \"C3H4N4\", \"C2H3N3O2\", \"C2H3N5\", \"CH3N5\", \"C4H6N2\", \"C3H6O3\", \"C2H4N2O2\", \"C3H2O3\", \"CN2O3\", \"C3H5N\", \"C7H8\", \"C4H5N3\", \"C5H4O\", \"C2HNO3\", \"C5H8N2\", \"C2H3N3O\"],\n",
    "           [\"C4HNO\", \"C3H2N2\", \"C3HNO2\", \"C3H6N2O\", \"CH2N4O\", \"C5H2O\", \"C2H2O2\", \"C5H12O\", \"C5H10O2\", \"C6H13N\", \"C4H7N3\", \"C3H2N2O\", \"C3H3N3\", \"C4H10O2\", \"C5H10N2\", \"CH4N2O\", \"C3H6O\"],\n",
    "           [\"C3HN3O\", \"C4N2\", \"C4H3NO2\", \"C3H5N3O\", \"C5H6N2\", \"C3H4O2\", \"C2H5NO\", \"C3H8N2O2\", \"C6H8O\", \"C4H7N\", \"C4H8O2\", \"C2HNO\", \"C3N2O\", \"C2H2N4\", \"C5H11NO\", \"C3H8O\", \"CHN3O2\", \"C3H6N2\"],\n",
    "           [\"C6H10O\", \"C4H3N\", \"C6H12O\", \"C5H4\", \"C3H8N2O\", \"C4H5N\", \"C2N2\", \"C6H10\", \"C4H2O2\", \"C2H4N4\", \"C6H14\", \"C6H11N\", \"C2H2N2O\", \"C4H6O2\", \"C2H6N2O\", \"C5H5NO\", \"C6H6\"]]\n",
    "set_train = [['C6H13N', 'C2H4N4', 'C2H6O2', 'C2H6N2O', 'C3H6N2O', 'C4H2N2O', 'C4H6', 'C3H6N2', 'C5H5N', 'C3H2N4', 'C3N2O', 'C5H3NO', 'C6H6', 'C3H4N2', 'C4H3NO2', 'C4H7NO', 'C2H2N4', 'C2H5NO2', 'C3H5NO2', 'C4H3NO', '.DS_S', 'C3H4O3', 'C3H4O2', 'C3H5NO3', 'C2H6O', 'C5H5NO', 'C2H4N2O', 'C3H2N2', 'C6H12O', 'C3H2O', 'C3H6O2', 'C3H8N2O', 'C2H2N2O2', 'C2H2O2', 'C3H8N2O2', 'C5H12', 'C4H9NO2', 'C3HNO2', 'C2N2', 'C5H4', 'C5H10N2', 'C4H5NO2', 'C4H8O3', 'C4H8O2', 'C7H16', 'C3H5N3', 'C4H4N2O', 'C4H8N2O', 'C7H14', 'C2H3N3', 'C4H7N', 'C5H6', 'C6H6O', 'C5H10', 'C3H4O', 'C5H12O', 'C4N2', 'C3H4', 'C4H6N2O', 'C5H12O2', 'C3H3N3', 'C7H10', 'C2H2N2O', 'C3H2N2O', 'C4H6O', 'C6H7N', 'C5H2O', 'C3H3NO3', 'C4H7NO2', 'C4H10O3', 'C3H8O', 'C4H8N2', 'C5H8O2', 'C4H10O2', 'C5H10O2', 'CHN3O2', 'C3H2N2O2', 'C2H3NO2', 'C3H3NO2', 'C3H7NO', 'C6H8O', 'C4H9N', 'C5H4O2', 'C2H3NO', 'C4H4N2', 'CH2N4O', 'C6H4O', 'C4H2O2', 'C4H5N', 'C3H5N3O', 'C3HN', 'C3H8', 'CH4N2O', 'C4HNO', 'C4H10N2O', 'C3H7N', 'C5H6O2', 'C2H3N', 'C6H5N', 'C3H7N3O', 'C4H4O', 'C5H6N2', 'C4H6O3', 'C4H6O2', 'C5H10O', 'C3H6O', 'C2H5NO', 'C5H8', 'C6H9N', 'C4H4O2', 'C4H8O', 'C3H6N2O2', 'C3H3NO', 'C5H4N2', 'C4H4O3', 'C5H7N', 'C2HNO', 'C4H3N', 'C4H10', 'CHN3O', 'C5H9NO', 'C6H11N', 'C6H14', 'C5H11NO', 'C3H3N3O', 'C4H7N3', 'C3H4N2O2', 'C3H8O3', 'C4H8', 'C6H12', 'C5H6O', 'C3HN3O', 'C6H10', 'C4H3N3', 'C6H8', 'C6H10O', 'C4H9NO', 'C2H4O'],\n",
    "             ['C3H2O3', 'C2H4N4', 'C2H6O2', 'C2H6N2O', 'C4H2N2O', 'C4H6', 'C3H6N2', 'C5H5N', 'C3H2N4', 'C3N2O', 'C5H3NO', 'C6H6', 'C3H4N2', 'C4H3NO2', 'C4H7NO', 'C2H2N4', 'C2H5NO2', 'C3H5NO2', 'C4H3NO', '.DS_S', 'C3H4O3', 'C3H4O2', 'C3H5NO3', 'C5H8O', 'C2H6O', 'C5H5NO', 'C2H4N2O', 'C6H12O', 'C3H2O', 'C3H6O2', 'C3H4N4', 'C3H8N2O', 'C2H2N2O2', 'C3H6O3', 'C3H8N2O2', 'C5H4O', 'C5H12', 'C4H9NO2', 'C2N2', 'C5H4', 'C5H8N2', 'C4H5NO2', 'C4H8O3', 'C4H8O2', 'C7H16', 'C3H5N3', 'C4H4N2O', 'C3H5N', 'C4H8N2O', 'C7H14', 'C2H3N3', 'C4H7N', 'C5H6', 'C2H3N3O2', 'C6H6O', 'C5H10', 'C3H4O', 'C4N2', 'C3H4', 'C4H6N2O', 'C5H12O2', 'C7H10', 'C2H2N2O', 'C4H6O', 'C6H7N', 'CN2O3', 'C3H3NO3', 'C4H7NO2', 'C4H10O3', 'C3H8O', 'C4H8N2', 'C2H3N5', 'C5H8O2', 'CH3N5', 'CHN3O2', 'C3H2N2O2', 'C2HNO3', 'C2H3NO2', 'C3H3NO2', 'C3H7NO', 'C6H8O', 'C4H9N', 'C5H4O2', 'C2H3NO', 'C4H4N2', 'C6H4O', 'C4H2O2', 'C4H5N', 'C3H5N3O', 'C3HN', 'C3H8', 'C4H6N2', 'C2H4N2O2', 'C4H10N2O', 'C3H7N', 'C5H6O2', 'C2H3N', 'C6H5N', 'C3H7N3O', 'C4H4O', 'C5H6N2', 'C4H6O3', 'C4H6O2', 'C5H10O', 'C2H5NO', 'C7H8', 'C5H8', 'C6H9N', 'C4H4O2', 'C4H8O', 'C3H6N2O2', 'C3H3NO', 'C5H4N2', 'C4H4O3', 'C5H7N', 'C2HNO', 'C4H3N', 'C4H10', 'CHN3O', 'C5H9NO', 'C6H11N', 'C6H14', 'C5H11NO', 'C3H3N3O', 'C2H3N3O', 'C4H5N3', 'C3H4N2O2', 'C3H8O3', 'C4H8', 'C6H12', 'C5H6O', 'C3HN3O', 'C6H10', 'C4H3N3', 'C6H8', 'C6H10O', 'C4H9NO', 'C2H4O'],\n",
    "             ['C3H2O3', 'C6H13N', 'C2H4N4', 'C2H6O2', 'C2H6N2O', 'C3H6N2O', 'C4H2N2O', 'C4H6', 'C5H5N', 'C3H2N4', 'C5H3NO', 'C6H6', 'C3H4N2', 'C4H7NO', 'C2H5NO2', 'C3H5NO2', 'C4H3NO', '.DS_S', 'C3H4O3', 'C3H5NO3', 'C5H8O', 'C2H6O', 'C5H5NO', 'C2H4N2O', 'C3H2N2', 'C6H12O', 'C3H2O', 'C3H6O2', 'C3H4N4', 'C3H8N2O', 'C2H2N2O2', 'C3H6O3', 'C2H2O2', 'C5H4O', 'C5H12', 'C4H9NO2', 'C3HNO2', 'C2N2', 'C5H4', 'C5H10N2', 'C5H8N2', 'C4H5NO2', 'C4H8O3', 'C7H16', 'C3H5N3', 'C4H4N2O', 'C3H5N', 'C4H8N2O', 'C7H14', 'C2H3N3', 'C5H6', 'C2H3N3O2', 'C6H6O', 'C5H10', 'C3H4O', 'C5H12O', 'C3H4', 'C4H6N2O', 'C5H12O2', 'C3H3N3', 'C7H10', 'C2H2N2O', 'C3H2N2O', 'C4H6O', 'C6H7N', 'CN2O3', 'C5H2O', 'C3H3NO3', 'C4H7NO2', 'C4H10O3', 'C4H8N2', 'C2H3N5', 'C5H8O2', 'C4H10O2', 'C5H10O2', 'CH3N5', 'C3H2N2O2', 'C2HNO3', 'C2H3NO2', 'C3H3NO2', 'C3H7NO', 'C4H9N', 'C5H4O2', 'C2H3NO', 'C4H4N2', 'CH2N4O', 'C6H4O', 'C4H2O2', 'C4H5N', 'C3HN', 'C3H8', 'C4H6N2', 'C2H4N2O2', 'CH4N2O', 'C4HNO', 'C4H10N2O', 'C3H7N', 'C5H6O2', 'C2H3N', 'C6H5N', 'C3H7N3O', 'C4H4O', 'C4H6O3', 'C4H6O2', 'C5H10O', 'C3H6O', 'C7H8', 'C5H8', 'C6H9N', 'C4H4O2', 'C4H8O', 'C3H6N2O2', 'C3H3NO', 'C5H4N2', 'C4H4O3', 'C5H7N', 'C4H3N', 'C4H10', 'CHN3O', 'C5H9NO', 'C6H11N', 'C6H14', 'C3H3N3O', 'C2H3N3O', 'C4H7N3', 'C4H5N3', 'C3H4N2O2', 'C3H8O3', 'C4H8', 'C6H12', 'C5H6O', 'C6H10', 'C4H3N3', 'C6H8', 'C6H10O', 'C4H9NO', 'C2H4O'],\n",
    "             ['C3H2O3', 'C6H13N', 'C2H6O2', 'C3H6N2O', 'C4H2N2O', 'C4H6', 'C3H6N2', 'C5H5N', 'C3H2N4', 'C3N2O', 'C5H3NO', 'C3H4N2', 'C4H3NO2', 'C4H7NO', 'C2H2N4', 'C2H5NO2', 'C3H5NO2', 'C4H3NO', '.DS_S', 'C3H4O3', 'C3H4O2', 'C3H5NO3', 'C5H8O', 'C2H6O', 'C2H4N2O', 'C3H2N2', 'C3H2O', 'C3H6O2', 'C3H4N4', 'C2H2N2O2', 'C3H6O3', 'C2H2O2', 'C3H8N2O2', 'C5H4O', 'C5H12', 'C4H9NO2', 'C3HNO2', 'C5H10N2', 'C5H8N2', 'C4H5NO2', 'C4H8O3', 'C4H8O2', 'C7H16', 'C3H5N3', 'C4H4N2O', 'C3H5N', 'C4H8N2O', 'C7H14', 'C2H3N3', 'C4H7N', 'C5H6', 'C2H3N3O2', 'C6H6O', 'C5H10', 'C3H4O', 'C5H12O', 'C4N2', 'C3H4', 'C4H6N2O', 'C5H12O2', 'C3H3N3', 'C7H10', 'C3H2N2O', 'C4H6O', 'C6H7N', 'CN2O3', 'C5H2O', 'C3H3NO3', 'C4H7NO2', 'C4H10O3', 'C3H8O', 'C4H8N2', 'C2H3N5', 'C5H8O2', 'C4H10O2', 'C5H10O2', 'CH3N5', 'CHN3O2', 'C3H2N2O2', 'C2HNO3', 'C2H3NO2', 'C3H3NO2', 'C3H7NO', 'C6H8O', 'C4H9N', 'C5H4O2', 'C2H3NO', 'C4H4N2', 'CH2N4O', 'C6H4O', 'C3H5N3O', 'C3HN', 'C3H8', 'C4H6N2', 'C2H4N2O2', 'CH4N2O', 'C4HNO', 'C4H10N2O', 'C3H7N', 'C5H6O2', 'C2H3N', 'C6H5N', 'C3H7N3O', 'C4H4O', 'C5H6N2', 'C4H6O3', 'C5H10O', 'C3H6O', 'C2H5NO', 'C7H8', 'C5H8', 'C6H9N', 'C4H4O2', 'C4H8O', 'C3H6N2O2', 'C3H3NO', 'C5H4N2', 'C4H4O3', 'C5H7N', 'C2HNO', 'C4H10', 'CHN3O', 'C5H9NO', 'C5H11NO', 'C3H3N3O', 'C2H3N3O', 'C4H7N3', 'C4H5N3', 'C3H4N2O2', 'C3H8O3', 'C4H8', 'C6H12', 'C5H6O', 'C3HN3O', 'C4H3N3', 'C6H8', 'C4H9NO', 'C2H4O']]\n",
    "\n",
    "for num_crossval in range(4):\n",
    "    R = {'train':[], 'val':[], 'test':[], 'extra':[]}\n",
    "    Z = {'train':[], 'val':[], 'test':[], 'extra':[]}\n",
    "    E = {'train':[], 'val':[], 'test':[], 'extra':[]}\n",
    "    F = {'train':[], 'val':[], 'test':[], 'extra':[]}\n",
    "    \n",
    "    N = {'train':0, 'val':0, 'test':0, 'extra':0}\n",
    "    for file in tqdm(os.listdir(f'{DIR_T1x}/augmented_data')):\n",
    "        if file.endswith('.npz'):\n",
    "            data = np.load(f'{DIR_T1x}/augmented_data/{file}')\n",
    "        else:\n",
    "            continue\n",
    "\n",
    "        if file[:-4] in set_test: \n",
    "            set_split = 'test'\n",
    "        elif file[:-4] in set_val[num_crossval]: \n",
    "            set_split = 'val'\n",
    "        elif file[:-4] in set_train[num_crossval]: \n",
    "            set_split = 'train'\n",
    "        else:\n",
    "            set_split = 'extra'\n",
    "\n",
    "        if len(data['R'].shape) < 2:\n",
    "            print(f\"Shape of {file} is faulty: {data['R'].shape}\")\n",
    "            continue\n",
    "        \n",
    "        A = data['R'].shape[1]\n",
    "        N[set_split] += data['R'].shape[0]\n",
    "        R[set_split].append(np.pad(data['R'], pad_width=((0,0),(0,A_max-A),(0,0))))\n",
    "        Z[set_split].append(np.pad(data['Z'], pad_width=((0,0),(0,A_max-A))))\n",
    "        E[set_split].append(data['E'])\n",
    "        F[set_split].append(np.pad(data['F'], pad_width=((0,0),(0,A_max-A),(0,0))))\n",
    "\n",
    "    for set_split in ['train', 'val', 'test']:\n",
    "        np.savez_compressed(f'{DIR_T1x}/splits/composition_split_5{num_crossval}aug/{set_split}_data.npz', \n",
    "            R=np.vstack(R[set_split]),\n",
    "            Z=np.vstack(Z[set_split]),\n",
    "            E=np.vstack(E[set_split]), \n",
    "            F=np.vstack(F[set_split]))\n",
    "        print(set_split, 'samples:', N[set_split])\n",
    "    np.savez_compressed(f'{DIR_T1x}/splits/composition_split_5{num_crossval}aug/extra_data.npz',\n",
    "        R=np.vstack(R['train']+R['extra']),\n",
    "        Z=np.vstack(Z['train']+Z['extra']),\n",
    "        E=np.vstack(E['train']+E['extra']),\n",
    "        F=np.vstack(F['train']+F['extra']))\n",
    "    print('extra samples:', N['train']+N['extra'])\n",
    "\n",
    "print('done!')"
   ]
  },
  {
   "cell_type": "code",
   "execution_count": null,
   "metadata": {},
   "outputs": [],
   "source": [
    "print('\\n# Creating crossval splits')\n",
    "\n",
    "np.random.seed(0)\n",
    "\n",
    "RXN, R, Z, E_abs, E, F = [], [], [], [], [], []\n",
    "N_tot = 0\n",
    "for file in tqdm(os.listdir(f'{DIR_T1x}/augmented_data')):\n",
    "    if (file.endswith('.npz')) and (file in os.listdir(f'{DIR_T1x}/composition_data')):\n",
    "        data = np.load(f'{DIR_T1x}/augmented_data/{file}')\n",
    "    else:\n",
    "        continue\n",
    "\n",
    "    if len(data['R'].shape) < 2:\n",
    "        print(f\"Shape of {file} is faulty: {data['R'].shape}\")\n",
    "        continue\n",
    "    N_tot += data['R'].shape[0]\n",
    "    A = data['R'].shape[1]\n",
    "\n",
    "    R.append(np.pad(data['R'], pad_width=((0,0),(0,A_max-A),(0,0))))\n",
    "    Z.append(np.pad(data['Z'], pad_width=((0,0),(0,A_max-A))))\n",
    "    E.append(data['E'])\n",
    "    F.append(np.pad(data['F'], pad_width=((0,0),(0,A_max-A),(0,0))))\n",
    "\n",
    "R = np.vstack(R)\n",
    "Z = np.vstack(Z)\n",
    "E = np.vstack(E)\n",
    "F = np.vstack(F)\n",
    "\n",
    "for num_crossval in range(4):\n",
    "    N = 0\n",
    "    split = np.random.choice(['train', 'val', 'test'], N_tot, p=[0.8, 0.1, 0.1])\n",
    "    for set_split in ['train', 'val', 'test']:\n",
    "        np.savez_compressed(f'{DIR_T1x}/augmented_splits/conformation_split_{num_crossval}aug1M/{set_split}_data.npz', \n",
    "            R=R[split==set_split],\n",
    "            Z=Z[split==set_split],\n",
    "            E=E[split==set_split], \n",
    "            F=F[split==set_split])\n",
    "        print(set_split, 'samples:', np.sum(split==set_split))\n",
    "        N += np.sum(split==set_split)\n",
    "    print('total:', N)\n",
    "print()\n",
    "print('done!')"
   ]
  }
 ],
 "metadata": {
  "kernelspec": {
   "display_name": "gad",
   "language": "python",
   "name": "python3"
  },
  "language_info": {
   "codemirror_mode": {
    "name": "ipython",
    "version": 3
   },
   "file_extension": ".py",
   "mimetype": "text/x-python",
   "name": "python",
   "nbconvert_exporter": "python",
   "pygments_lexer": "ipython3",
   "version": "3.12.11"
  }
 },
 "nbformat": 4,
 "nbformat_minor": 2
}
